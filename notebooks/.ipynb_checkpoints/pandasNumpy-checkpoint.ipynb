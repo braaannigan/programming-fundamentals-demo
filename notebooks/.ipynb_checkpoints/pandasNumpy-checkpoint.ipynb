{
 "cells": [
  {
   "cell_type": "markdown",
   "id": "af963863-96e2-4184-ac53-55f157551a01",
   "metadata": {},
   "source": [
    "# Using Numpy in Pandas\n",
    "\n",
    "If the bottleneck in your code is an array operation on a pandas dataframe it is often much faster to access the underlying numpy array directly and then port the results back to pandas.\n",
    "\n",
    "If we are working with numpy arrays then we can also use the numpy optimisation techniques such as numExpr"
   ]
  },
  {
   "cell_type": "code",
   "execution_count": 6,
   "id": "f4040195-95a6-4254-96b2-4f702ce573dd",
   "metadata": {},
   "outputs": [],
   "source": [
    "import numpy as np\n",
    "import pandas as pd\n",
    "import numexpr as ne\n",
    "\n",
    "from IPython.display import Markdown, display\n"
   ]
  },
  {
   "cell_type": "code",
   "execution_count": 7,
   "id": "213154a7-3fea-46bd-9512-6fb3c5a5f0d2",
   "metadata": {},
   "outputs": [],
   "source": [
    "def printmd(string):\n",
    "    display(Markdown(string))"
   ]
  },
  {
   "cell_type": "code",
   "execution_count": 2,
   "id": "b2ec085f-7cd1-49aa-8cef-d51dcc6b2f78",
   "metadata": {},
   "outputs": [
    {
     "data": {
      "text/html": [
       "<div>\n",
       "<style scoped>\n",
       "    .dataframe tbody tr th:only-of-type {\n",
       "        vertical-align: middle;\n",
       "    }\n",
       "\n",
       "    .dataframe tbody tr th {\n",
       "        vertical-align: top;\n",
       "    }\n",
       "\n",
       "    .dataframe thead th {\n",
       "        text-align: right;\n",
       "    }\n",
       "</style>\n",
       "<table border=\"1\" class=\"dataframe\">\n",
       "  <thead>\n",
       "    <tr style=\"text-align: right;\">\n",
       "      <th></th>\n",
       "      <th>0</th>\n",
       "      <th>1</th>\n",
       "      <th>2</th>\n",
       "      <th>3</th>\n",
       "      <th>4</th>\n",
       "      <th>5</th>\n",
       "      <th>6</th>\n",
       "      <th>7</th>\n",
       "      <th>8</th>\n",
       "      <th>9</th>\n",
       "      <th>...</th>\n",
       "      <th>90</th>\n",
       "      <th>91</th>\n",
       "      <th>92</th>\n",
       "      <th>93</th>\n",
       "      <th>94</th>\n",
       "      <th>95</th>\n",
       "      <th>96</th>\n",
       "      <th>97</th>\n",
       "      <th>98</th>\n",
       "      <th>99</th>\n",
       "    </tr>\n",
       "  </thead>\n",
       "  <tbody>\n",
       "    <tr>\n",
       "      <th>0</th>\n",
       "      <td>2.287015</td>\n",
       "      <td>1.043294</td>\n",
       "      <td>0.675400</td>\n",
       "      <td>0.860762</td>\n",
       "      <td>0.121209</td>\n",
       "      <td>0.448892</td>\n",
       "      <td>-0.797251</td>\n",
       "      <td>0.840260</td>\n",
       "      <td>0.253120</td>\n",
       "      <td>0.702086</td>\n",
       "      <td>...</td>\n",
       "      <td>1.909484</td>\n",
       "      <td>-2.138513</td>\n",
       "      <td>0.058621</td>\n",
       "      <td>-0.173132</td>\n",
       "      <td>-0.617359</td>\n",
       "      <td>1.753565</td>\n",
       "      <td>-0.413478</td>\n",
       "      <td>0.049859</td>\n",
       "      <td>1.138952</td>\n",
       "      <td>-0.000730</td>\n",
       "    </tr>\n",
       "    <tr>\n",
       "      <th>1</th>\n",
       "      <td>-1.051643</td>\n",
       "      <td>-1.702365</td>\n",
       "      <td>-1.717464</td>\n",
       "      <td>-1.530425</td>\n",
       "      <td>-0.472547</td>\n",
       "      <td>-1.919646</td>\n",
       "      <td>-0.194076</td>\n",
       "      <td>-1.102840</td>\n",
       "      <td>0.625107</td>\n",
       "      <td>-0.720760</td>\n",
       "      <td>...</td>\n",
       "      <td>0.051990</td>\n",
       "      <td>0.937193</td>\n",
       "      <td>-0.165219</td>\n",
       "      <td>1.488532</td>\n",
       "      <td>-0.772458</td>\n",
       "      <td>0.939916</td>\n",
       "      <td>0.978447</td>\n",
       "      <td>3.012688</td>\n",
       "      <td>-0.474286</td>\n",
       "      <td>-1.634295</td>\n",
       "    </tr>\n",
       "    <tr>\n",
       "      <th>2</th>\n",
       "      <td>1.550799</td>\n",
       "      <td>-1.193952</td>\n",
       "      <td>-0.749828</td>\n",
       "      <td>0.112164</td>\n",
       "      <td>-0.265085</td>\n",
       "      <td>0.503282</td>\n",
       "      <td>0.142019</td>\n",
       "      <td>0.602865</td>\n",
       "      <td>0.440431</td>\n",
       "      <td>-0.111618</td>\n",
       "      <td>...</td>\n",
       "      <td>-2.897998</td>\n",
       "      <td>-1.739018</td>\n",
       "      <td>1.736361</td>\n",
       "      <td>0.348211</td>\n",
       "      <td>0.429868</td>\n",
       "      <td>0.192145</td>\n",
       "      <td>1.635783</td>\n",
       "      <td>-1.211355</td>\n",
       "      <td>1.014502</td>\n",
       "      <td>-0.396635</td>\n",
       "    </tr>\n",
       "    <tr>\n",
       "      <th>3</th>\n",
       "      <td>-1.467763</td>\n",
       "      <td>0.104484</td>\n",
       "      <td>0.453567</td>\n",
       "      <td>0.142141</td>\n",
       "      <td>1.428743</td>\n",
       "      <td>-1.691483</td>\n",
       "      <td>0.660587</td>\n",
       "      <td>-1.002569</td>\n",
       "      <td>-0.137528</td>\n",
       "      <td>-0.966293</td>\n",
       "      <td>...</td>\n",
       "      <td>-0.202935</td>\n",
       "      <td>0.164353</td>\n",
       "      <td>0.794680</td>\n",
       "      <td>-0.361157</td>\n",
       "      <td>0.068248</td>\n",
       "      <td>-0.445872</td>\n",
       "      <td>-0.356927</td>\n",
       "      <td>-0.063437</td>\n",
       "      <td>-1.305159</td>\n",
       "      <td>0.824749</td>\n",
       "    </tr>\n",
       "    <tr>\n",
       "      <th>4</th>\n",
       "      <td>1.217281</td>\n",
       "      <td>0.391434</td>\n",
       "      <td>-0.027387</td>\n",
       "      <td>-0.850208</td>\n",
       "      <td>1.013892</td>\n",
       "      <td>-0.899342</td>\n",
       "      <td>-0.849047</td>\n",
       "      <td>-0.129631</td>\n",
       "      <td>-0.791811</td>\n",
       "      <td>1.212166</td>\n",
       "      <td>...</td>\n",
       "      <td>-1.089641</td>\n",
       "      <td>-1.070132</td>\n",
       "      <td>0.482965</td>\n",
       "      <td>-1.399567</td>\n",
       "      <td>0.056385</td>\n",
       "      <td>0.544203</td>\n",
       "      <td>-0.839453</td>\n",
       "      <td>1.257635</td>\n",
       "      <td>-0.899517</td>\n",
       "      <td>0.143148</td>\n",
       "    </tr>\n",
       "  </tbody>\n",
       "</table>\n",
       "<p>5 rows × 100 columns</p>\n",
       "</div>"
      ],
      "text/plain": [
       "         0         1         2         3         4         5         6   \\\n",
       "0  2.287015  1.043294  0.675400  0.860762  0.121209  0.448892 -0.797251   \n",
       "1 -1.051643 -1.702365 -1.717464 -1.530425 -0.472547 -1.919646 -0.194076   \n",
       "2  1.550799 -1.193952 -0.749828  0.112164 -0.265085  0.503282  0.142019   \n",
       "3 -1.467763  0.104484  0.453567  0.142141  1.428743 -1.691483  0.660587   \n",
       "4  1.217281  0.391434 -0.027387 -0.850208  1.013892 -0.899342 -0.849047   \n",
       "\n",
       "         7         8         9   ...        90        91        92        93  \\\n",
       "0  0.840260  0.253120  0.702086  ...  1.909484 -2.138513  0.058621 -0.173132   \n",
       "1 -1.102840  0.625107 -0.720760  ...  0.051990  0.937193 -0.165219  1.488532   \n",
       "2  0.602865  0.440431 -0.111618  ... -2.897998 -1.739018  1.736361  0.348211   \n",
       "3 -1.002569 -0.137528 -0.966293  ... -0.202935  0.164353  0.794680 -0.361157   \n",
       "4 -0.129631 -0.791811  1.212166  ... -1.089641 -1.070132  0.482965 -1.399567   \n",
       "\n",
       "         94        95        96        97        98        99  \n",
       "0 -0.617359  1.753565 -0.413478  0.049859  1.138952 -0.000730  \n",
       "1 -0.772458  0.939916  0.978447  3.012688 -0.474286 -1.634295  \n",
       "2  0.429868  0.192145  1.635783 -1.211355  1.014502 -0.396635  \n",
       "3  0.068248 -0.445872 -0.356927 -0.063437 -1.305159  0.824749  \n",
       "4  0.056385  0.544203 -0.839453  1.257635 -0.899517  0.143148  \n",
       "\n",
       "[5 rows x 100 columns]"
      ]
     },
     "execution_count": 2,
     "metadata": {},
     "output_type": "execute_result"
    }
   ],
   "source": [
    "def createDataframe(N:int):\n",
    "    df = pd.DataFrame(np.random.standard_normal((N,N)))\n",
    "    return df\n",
    "df = createDataframe(N=100)\n",
    "df.head()"
   ]
  },
  {
   "cell_type": "markdown",
   "id": "749900bf-1a3f-4c10-b476-da1f1045e9ad",
   "metadata": {},
   "source": [
    "Create one function that carried out the operation in pandas and another in numpy. \n",
    "\n",
    "Test the outputs to check they are equivalent"
   ]
  },
  {
   "cell_type": "code",
   "execution_count": 3,
   "id": "5322e255-ace8-4b45-a5cd-c8e32bd4f31c",
   "metadata": {},
   "outputs": [],
   "source": [
    "def squarePandas(df):\n",
    "    return df**2\n",
    "def squareNumpy(df):\n",
    "    return pd.DataFrame(df.values**2,index=df.index,columns=df.columns)\n",
    "def squareNumExpr(df):\n",
    "    values = df.values\n",
    "    return pd.DataFrame(ne.evaluate(\"values**2\"),index=df.index,columns=df.columns)\n",
    "\n",
    "pd.testing.assert_frame_equal(squarePandas(df),squareNumpy(df))\n",
    "pd.testing.assert_frame_equal(squarePandas(df),squareNumExpr(df))"
   ]
  },
  {
   "cell_type": "markdown",
   "id": "71f1ccf6-562b-4cac-b261-39aead563209",
   "metadata": {},
   "source": [
    "Create a larger array for timing"
   ]
  },
  {
   "cell_type": "code",
   "execution_count": 10,
   "id": "23ff6a9d-0dc8-40d0-afd2-30c460fc91c2",
   "metadata": {},
   "outputs": [],
   "source": [
    "df = createDataframe(N=10000)"
   ]
  },
  {
   "cell_type": "code",
   "execution_count": 11,
   "id": "40770b78-a15f-4c96-bae0-65252b2dbd40",
   "metadata": {},
   "outputs": [
    {
     "data": {
      "text/markdown": [
       "**Pandas**"
      ],
      "text/plain": [
       "<IPython.core.display.Markdown object>"
      ]
     },
     "metadata": {},
     "output_type": "display_data"
    },
    {
     "name": "stdout",
     "output_type": "stream",
     "text": [
      "692 ms ± 41.8 ms per loop (mean ± std. dev. of 5 runs, 1 loop each)\n"
     ]
    },
    {
     "data": {
      "text/markdown": [
       "**Numpy**"
      ],
      "text/plain": [
       "<IPython.core.display.Markdown object>"
      ]
     },
     "metadata": {},
     "output_type": "display_data"
    },
    {
     "name": "stdout",
     "output_type": "stream",
     "text": [
      "423 ms ± 11.4 ms per loop (mean ± std. dev. of 5 runs, 1 loop each)\n"
     ]
    },
    {
     "data": {
      "text/markdown": [
       "**NumExpr**"
      ],
      "text/plain": [
       "<IPython.core.display.Markdown object>"
      ]
     },
     "metadata": {},
     "output_type": "display_data"
    },
    {
     "name": "stdout",
     "output_type": "stream",
     "text": [
      "288 ms ± 5.6 ms per loop (mean ± std. dev. of 5 runs, 1 loop each)\n"
     ]
    }
   ],
   "source": [
    "printmd(\"**Pandas**\")\n",
    "%timeit -n 1 -r 5 squarePandas(df=df)\n",
    "printmd(\"**Numpy**\")\n",
    "%timeit -n 1 -r 5 squareNumpy(df=df)\n",
    "printmd(\"**NumExpr**\")\n",
    "%timeit -n 1 -r 5 squareNumExpr(df=df)\n"
   ]
  },
  {
   "cell_type": "markdown",
   "id": "856348f3-2ae2-4993-8d38-4adc4e58fd6d",
   "metadata": {},
   "source": [
    "# Using NumExpr directly on a dataframe\n",
    "\n",
    "If we are working on columns of a dataframe  - as opposed to the whole dataframe at once - we can use NumExpr via the `pd.eval` function."
   ]
  },
  {
   "cell_type": "code",
   "execution_count": 17,
   "id": "5d9eb2e8-44b7-4554-acd1-46ab93c99da6",
   "metadata": {},
   "outputs": [
    {
     "data": {
      "text/html": [
       "<div>\n",
       "<style scoped>\n",
       "    .dataframe tbody tr th:only-of-type {\n",
       "        vertical-align: middle;\n",
       "    }\n",
       "\n",
       "    .dataframe tbody tr th {\n",
       "        vertical-align: top;\n",
       "    }\n",
       "\n",
       "    .dataframe thead th {\n",
       "        text-align: right;\n",
       "    }\n",
       "</style>\n",
       "<table border=\"1\" class=\"dataframe\">\n",
       "  <thead>\n",
       "    <tr style=\"text-align: right;\">\n",
       "      <th></th>\n",
       "      <th>order</th>\n",
       "    </tr>\n",
       "  </thead>\n",
       "  <tbody>\n",
       "    <tr>\n",
       "      <th>0</th>\n",
       "      <td>0</td>\n",
       "    </tr>\n",
       "    <tr>\n",
       "      <th>1</th>\n",
       "      <td>1</td>\n",
       "    </tr>\n",
       "    <tr>\n",
       "      <th>2</th>\n",
       "      <td>2</td>\n",
       "    </tr>\n",
       "    <tr>\n",
       "      <th>3</th>\n",
       "      <td>3</td>\n",
       "    </tr>\n",
       "    <tr>\n",
       "      <th>4</th>\n",
       "      <td>4</td>\n",
       "    </tr>\n",
       "  </tbody>\n",
       "</table>\n",
       "</div>"
      ],
      "text/plain": [
       "   order\n",
       "0      0\n",
       "1      1\n",
       "2      2\n",
       "3      3\n",
       "4      4"
      ]
     },
     "execution_count": 17,
     "metadata": {},
     "output_type": "execute_result"
    }
   ],
   "source": [
    "N = 100\n",
    "dfNew = pd.DataFrame({'order':np.arange(N)})\n",
    "dfNew.head()"
   ]
  },
  {
   "cell_type": "code",
   "execution_count": 20,
   "id": "f648366b-4ca7-47cc-9040-eb92b4ac541a",
   "metadata": {},
   "outputs": [
    {
     "data": {
      "text/html": [
       "<div>\n",
       "<style scoped>\n",
       "    .dataframe tbody tr th:only-of-type {\n",
       "        vertical-align: middle;\n",
       "    }\n",
       "\n",
       "    .dataframe tbody tr th {\n",
       "        vertical-align: top;\n",
       "    }\n",
       "\n",
       "    .dataframe thead th {\n",
       "        text-align: right;\n",
       "    }\n",
       "</style>\n",
       "<table border=\"1\" class=\"dataframe\">\n",
       "  <thead>\n",
       "    <tr style=\"text-align: right;\">\n",
       "      <th></th>\n",
       "      <th>order</th>\n",
       "      <th>doubleCol</th>\n",
       "    </tr>\n",
       "  </thead>\n",
       "  <tbody>\n",
       "    <tr>\n",
       "      <th>0</th>\n",
       "      <td>0</td>\n",
       "      <td>0</td>\n",
       "    </tr>\n",
       "    <tr>\n",
       "      <th>1</th>\n",
       "      <td>1</td>\n",
       "      <td>2</td>\n",
       "    </tr>\n",
       "    <tr>\n",
       "      <th>2</th>\n",
       "      <td>2</td>\n",
       "      <td>4</td>\n",
       "    </tr>\n",
       "    <tr>\n",
       "      <th>3</th>\n",
       "      <td>3</td>\n",
       "      <td>6</td>\n",
       "    </tr>\n",
       "    <tr>\n",
       "      <th>4</th>\n",
       "      <td>4</td>\n",
       "      <td>8</td>\n",
       "    </tr>\n",
       "    <tr>\n",
       "      <th>...</th>\n",
       "      <td>...</td>\n",
       "      <td>...</td>\n",
       "    </tr>\n",
       "    <tr>\n",
       "      <th>95</th>\n",
       "      <td>95</td>\n",
       "      <td>190</td>\n",
       "    </tr>\n",
       "    <tr>\n",
       "      <th>96</th>\n",
       "      <td>96</td>\n",
       "      <td>192</td>\n",
       "    </tr>\n",
       "    <tr>\n",
       "      <th>97</th>\n",
       "      <td>97</td>\n",
       "      <td>194</td>\n",
       "    </tr>\n",
       "    <tr>\n",
       "      <th>98</th>\n",
       "      <td>98</td>\n",
       "      <td>196</td>\n",
       "    </tr>\n",
       "    <tr>\n",
       "      <th>99</th>\n",
       "      <td>99</td>\n",
       "      <td>198</td>\n",
       "    </tr>\n",
       "  </tbody>\n",
       "</table>\n",
       "<p>100 rows × 2 columns</p>\n",
       "</div>"
      ],
      "text/plain": [
       "    order  doubleCol\n",
       "0       0          0\n",
       "1       1          2\n",
       "2       2          4\n",
       "3       3          6\n",
       "4       4          8\n",
       "..    ...        ...\n",
       "95     95        190\n",
       "96     96        192\n",
       "97     97        194\n",
       "98     98        196\n",
       "99     99        198\n",
       "\n",
       "[100 rows x 2 columns]"
      ]
     },
     "execution_count": 20,
     "metadata": {},
     "output_type": "execute_result"
    }
   ],
   "source": [
    "pd.eval(\"doubleCol = dfNew.order * 2\", target=dfNew)"
   ]
  },
  {
   "cell_type": "code",
   "execution_count": null,
   "id": "94a9981e-f041-46a2-bd30-3f3bd85ef129",
   "metadata": {},
   "outputs": [],
   "source": []
  }
 ],
 "metadata": {
  "kernelspec": {
   "display_name": "Python 3 (ipykernel)",
   "language": "python",
   "name": "python3"
  },
  "language_info": {
   "codemirror_mode": {
    "name": "ipython",
    "version": 3
   },
   "file_extension": ".py",
   "mimetype": "text/x-python",
   "name": "python",
   "nbconvert_exporter": "python",
   "pygments_lexer": "ipython3",
   "version": "3.9.1"
  }
 },
 "nbformat": 4,
 "nbformat_minor": 5
}
