{
 "cells": [
  {
   "cell_type": "code",
   "execution_count": 1,
   "id": "45246062-a736-4504-8f5c-4a5c61799d65",
   "metadata": {},
   "outputs": [],
   "source": [
    "import sys\n",
    "from pathlib import Path\n",
    "\n",
    "currentWorkingDirectory = Path('')\n",
    "projectRootDirectory = currentWorkingDirectory.parent\n",
    "sys.path.append(projectRootDirectory.as_posix())"
   ]
  },
  {
   "cell_type": "code",
   "execution_count": 2,
   "id": "978fce2d-4a65-4adc-bfd8-6a4c47a2e1f6",
   "metadata": {},
   "outputs": [],
   "source": [
    "import pandas as pd\n",
    "import numpy as np\n",
    "\n",
    "from IPython.display import Markdown, display"
   ]
  },
  {
   "cell_type": "code",
   "execution_count": 3,
   "id": "acc5a6fd-c9b2-46e3-97e7-2fab42f0c70c",
   "metadata": {},
   "outputs": [],
   "source": [
    "def printmd(string):\n",
    "    display(Markdown(string))"
   ]
  },
  {
   "cell_type": "code",
   "execution_count": 20,
   "id": "809d923f-943f-44d4-bd12-adf00dd3f4b9",
   "metadata": {},
   "outputs": [],
   "source": [
    "# np.random.seed(3)\n",
    "N = 300\n",
    "arr = np.random.standard_normal((N,N,N))"
   ]
  },
  {
   "cell_type": "code",
   "execution_count": 21,
   "id": "97867c80-23cc-4dff-aa96-7390316fd046",
   "metadata": {},
   "outputs": [
    {
     "data": {
      "text/markdown": [
       "Run in **C-order** - expect mean over **last column** to be fastest"
      ],
      "text/plain": [
       "<IPython.core.display.Markdown object>"
      ]
     },
     "metadata": {},
     "output_type": "display_data"
    },
    {
     "name": "stdout",
     "output_type": "stream",
     "text": [
      "21.7 ms ± 3.54 ms per loop (mean ± std. dev. of 7 runs, 1 loop each)\n",
      "16.8 ms ± 1.21 ms per loop (mean ± std. dev. of 7 runs, 1 loop each)\n",
      "16 ms ± 1.46 ms per loop (mean ± std. dev. of 7 runs, 1 loop each)\n"
     ]
    }
   ],
   "source": [
    "printmd(\"Run in **C-order** - expect mean over **last column** to be fastest\")\n",
    "%timeit -n 1 arr.mean(axis=0)\n",
    "%timeit -n 1 arr.mean(axis=1)\n",
    "%timeit -n 1 arr.mean(axis=2)"
   ]
  },
  {
   "cell_type": "code",
   "execution_count": 22,
   "id": "44abc21c-b99d-429d-b2e9-cf53584bfed8",
   "metadata": {},
   "outputs": [
    {
     "data": {
      "text/markdown": [
       "Run in **Fortran-order** - expect mean over **first column** to be fastest"
      ],
      "text/plain": [
       "<IPython.core.display.Markdown object>"
      ]
     },
     "metadata": {},
     "output_type": "display_data"
    },
    {
     "name": "stdout",
     "output_type": "stream",
     "text": [
      "16.4 ms ± 3.08 ms per loop (mean ± std. dev. of 7 runs, 1 loop each)\n",
      "15.3 ms ± 763 µs per loop (mean ± std. dev. of 7 runs, 1 loop each)\n",
      "19.6 ms ± 677 µs per loop (mean ± std. dev. of 7 runs, 1 loop each)\n"
     ]
    }
   ],
   "source": [
    "printmd(\"Run in **Fortran-order** - expect mean over **first column** to be fastest\")\n",
    "arr = np.asfortranarray(arr)\n",
    "%timeit -n 1 arr.mean(axis=0)\n",
    "%timeit -n 1 arr.mean(axis=1)\n",
    "%timeit -n 1 arr.mean(axis=2)"
   ]
  },
  {
   "cell_type": "code",
   "execution_count": 3,
   "id": "7f611098-2fa7-478a-a9a8-871e02bbe29b",
   "metadata": {},
   "outputs": [],
   "source": [
    "dataPath = Path(\"../data/raw/\")\n",
    "interimDataPath = Path(\"../data/interim/\")\n",
    "\n",
    "def loadData(duplicateN:int=1):\n",
    "    df = pd.read_csv(dataPath / \"atlanticInterpolated.csv\")\n",
    "    z = df.z.values\n",
    "    dropColumns = []\n",
    "    for col in df.columns:\n",
    "        if df.loc[30, col] > df.loc[0, col] - 0.1:\n",
    "            dropColumns.append(col)\n",
    "    df = df.drop(columns=dropColumns)\n",
    "    df = pd.concat([df for _ in range(duplicateN)], axis=1)\n",
    "    temps = df.iloc[:, 1:].values\n",
    "    surfaceTemps = temps[:2, :].mean(axis=0)\n",
    "    return df, temps, z, surfaceTemps"
   ]
  },
  {
   "cell_type": "code",
   "execution_count": null,
   "id": "1d3d79eb-57fc-4e53-8e07-aaa506adb9d7",
   "metadata": {},
   "outputs": [],
   "source": []
  }
 ],
 "metadata": {
  "kernelspec": {
   "display_name": "demo-env",
   "language": "python",
   "name": "demo-env"
  },
  "language_info": {
   "codemirror_mode": {
    "name": "ipython",
    "version": 3
   },
   "file_extension": ".py",
   "mimetype": "text/x-python",
   "name": "python",
   "nbconvert_exporter": "python",
   "pygments_lexer": "ipython3",
   "version": "3.9.1"
  }
 },
 "nbformat": 4,
 "nbformat_minor": 5
}
