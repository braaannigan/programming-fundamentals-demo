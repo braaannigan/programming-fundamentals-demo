{
 "cells": [
  {
   "cell_type": "markdown",
   "id": "a34d16cf-7526-463b-bb71-cac1b731d1ac",
   "metadata": {},
   "source": [
    "# Effect of changing numerical precision\n",
    "\n",
    "In this notebook we look at the effect of changing precision for floating point numbers from 64-bit to 32-bit and 16-bit."
   ]
  },
  {
   "cell_type": "code",
   "execution_count": 15,
   "id": "1645209a-a968-4dcd-b351-a04c21447ba1",
   "metadata": {},
   "outputs": [],
   "source": [
    "import numpy as np\n",
    "\n",
    "from IPython.display import Markdown, display"
   ]
  },
  {
   "cell_type": "markdown",
   "id": "42b67589-78fc-4968-af1c-98dfff567102",
   "metadata": {},
   "source": [
    "Define a function to give us print statements with markdown formatting"
   ]
  },
  {
   "cell_type": "code",
   "execution_count": 16,
   "id": "6399d257-0afb-4c67-915d-ccb77f2547d5",
   "metadata": {},
   "outputs": [],
   "source": [
    "def printmd(string):\n",
    "    display(Markdown(string))"
   ]
  },
  {
   "cell_type": "markdown",
   "id": "ef35a741-0c3a-476b-be6a-986481d445ae",
   "metadata": {},
   "source": [
    "# Create the arrays\n",
    "Create the random 64-bit 2D array"
   ]
  },
  {
   "cell_type": "code",
   "execution_count": 17,
   "id": "303b6b31-b8cf-4f63-b6f6-26e3d5e9f16b",
   "metadata": {},
   "outputs": [],
   "source": [
    "np.random.seed(3)\n",
    "N = 10000\n",
    "arr64 = np.random.standard_normal((N,N))"
   ]
  },
  {
   "cell_type": "markdown",
   "id": "9b117bc5-e9ab-4b3a-aece-e4da51e62c7d",
   "metadata": {},
   "source": [
    "Create the 32-bit and 16-bit arrays"
   ]
  },
  {
   "cell_type": "code",
   "execution_count": 18,
   "id": "f856cf99-b827-47dd-b252-dcc06d996f0d",
   "metadata": {},
   "outputs": [],
   "source": [
    "arr32 = arr64.astype(np.float32)\n",
    "arr16 = arr64.astype(np.float16)"
   ]
  },
  {
   "cell_type": "markdown",
   "id": "ff068fdc-e6ae-497e-85fd-d3778e382a55",
   "metadata": {},
   "source": [
    "Check the size of the arrays in memory"
   ]
  },
  {
   "cell_type": "code",
   "execution_count": 19,
   "id": "b9f5e4f6-e840-4a61-b2e2-30671565bcd4",
   "metadata": {},
   "outputs": [
    {
     "data": {
      "text/markdown": [
       "Size of **64-bit** array: 800.0 Mb"
      ],
      "text/plain": [
       "<IPython.core.display.Markdown object>"
      ]
     },
     "metadata": {},
     "output_type": "display_data"
    },
    {
     "data": {
      "text/markdown": [
       "Size of **32-bit** array: 400.0 Mb"
      ],
      "text/plain": [
       "<IPython.core.display.Markdown object>"
      ]
     },
     "metadata": {},
     "output_type": "display_data"
    },
    {
     "data": {
      "text/markdown": [
       "Size of **16-bit** array: 200.0 Mb"
      ],
      "text/plain": [
       "<IPython.core.display.Markdown object>"
      ]
     },
     "metadata": {},
     "output_type": "display_data"
    }
   ],
   "source": [
    "printmd(f\"Size of **64-bit** array: {arr64.nbytes/1e6} Mb\")\n",
    "printmd(f\"Size of **32-bit** array: {arr32.nbytes/1e6} Mb\")\n",
    "printmd(f\"Size of **16-bit** array: {arr16.nbytes/1e6} Mb\")"
   ]
  },
  {
   "cell_type": "markdown",
   "id": "9d73554f-4ac8-49d1-8f4d-23cc7cb22538",
   "metadata": {},
   "source": [
    "# Changes in values with changes in precision\n",
    "\n",
    "When changing precision we need to understand the effect it has on our results. We will use the `np.testing.assert_allclose` function to do so.\n",
    "\n",
    "We first confirm that the 64-bit and 32-bit arrays are equal to 6 decimal places"
   ]
  },
  {
   "cell_type": "code",
   "execution_count": 20,
   "id": "8f2fd0cd-325e-4157-9142-3a0e2f16ff10",
   "metadata": {},
   "outputs": [],
   "source": [
    "np.testing.assert_allclose(actual=arr32,desired=arr64,atol=1e-6,rtol=0)"
   ]
  },
  {
   "cell_type": "markdown",
   "id": "2373a66d-efef-4832-bb68-bf2912a8de63",
   "metadata": {},
   "source": [
    "However, the big pink box shows that the 64-bit and 32-but arrays are **not** equal to 7 decimal places for every element"
   ]
  },
  {
   "cell_type": "code",
   "execution_count": 21,
   "id": "b3b97824-e0f2-4547-99aa-f39b34ebbf7e",
   "metadata": {},
   "outputs": [
    {
     "ename": "AssertionError",
     "evalue": "\nNot equal to tolerance rtol=0, atol=1e-07\n\nMismatched elements: 736084 / 100000000 (0.736%)\nMax absolute difference: 2.38294763e-07\nMax relative difference: 5.95987588e-08\n x: array([[ 1.788628,  0.43651 ,  0.096497, ...,  0.742021, -0.455719,\n         0.422186],\n       [-0.041542, -1.826522, -0.844802, ..., -0.381443,  0.552564,...\n y: array([[ 1.788628,  0.43651 ,  0.096497, ...,  0.742021, -0.455719,\n         0.422186],\n       [-0.041542, -1.826522, -0.844802, ..., -0.381443,  0.552564,...",
     "output_type": "error",
     "traceback": [
      "\u001b[0;31m---------------------------------------------------------------------------\u001b[0m",
      "\u001b[0;31mAssertionError\u001b[0m                            Traceback (most recent call last)",
      "Input \u001b[0;32mIn [21]\u001b[0m, in \u001b[0;36m<module>\u001b[0;34m\u001b[0m\n\u001b[0;32m----> 1\u001b[0m \u001b[43mnp\u001b[49m\u001b[38;5;241;43m.\u001b[39;49m\u001b[43mtesting\u001b[49m\u001b[38;5;241;43m.\u001b[39;49m\u001b[43massert_allclose\u001b[49m\u001b[43m(\u001b[49m\u001b[43mactual\u001b[49m\u001b[38;5;241;43m=\u001b[39;49m\u001b[43marr32\u001b[49m\u001b[43m,\u001b[49m\u001b[43mdesired\u001b[49m\u001b[38;5;241;43m=\u001b[39;49m\u001b[43marr64\u001b[49m\u001b[43m,\u001b[49m\u001b[43matol\u001b[49m\u001b[38;5;241;43m=\u001b[39;49m\u001b[38;5;241;43m1e-7\u001b[39;49m\u001b[43m,\u001b[49m\u001b[43mrtol\u001b[49m\u001b[38;5;241;43m=\u001b[39;49m\u001b[38;5;241;43m0\u001b[39;49m\u001b[43m)\u001b[49m\n",
      "    \u001b[0;31m[... skipping hidden 1 frame]\u001b[0m\n",
      "File \u001b[0;32m~/playModels/programming-fundamentals-demo/demo-env/lib/python3.9/site-packages/numpy/testing/_private/utils.py:844\u001b[0m, in \u001b[0;36massert_array_compare\u001b[0;34m(comparison, x, y, err_msg, verbose, header, precision, equal_nan, equal_inf)\u001b[0m\n\u001b[1;32m    840\u001b[0m         err_msg \u001b[38;5;241m+\u001b[39m\u001b[38;5;241m=\u001b[39m \u001b[38;5;124m'\u001b[39m\u001b[38;5;130;01m\\n\u001b[39;00m\u001b[38;5;124m'\u001b[39m \u001b[38;5;241m+\u001b[39m \u001b[38;5;124m'\u001b[39m\u001b[38;5;130;01m\\n\u001b[39;00m\u001b[38;5;124m'\u001b[39m\u001b[38;5;241m.\u001b[39mjoin(remarks)\n\u001b[1;32m    841\u001b[0m         msg \u001b[38;5;241m=\u001b[39m build_err_msg([ox, oy], err_msg,\n\u001b[1;32m    842\u001b[0m                             verbose\u001b[38;5;241m=\u001b[39mverbose, header\u001b[38;5;241m=\u001b[39mheader,\n\u001b[1;32m    843\u001b[0m                             names\u001b[38;5;241m=\u001b[39m(\u001b[38;5;124m'\u001b[39m\u001b[38;5;124mx\u001b[39m\u001b[38;5;124m'\u001b[39m, \u001b[38;5;124m'\u001b[39m\u001b[38;5;124my\u001b[39m\u001b[38;5;124m'\u001b[39m), precision\u001b[38;5;241m=\u001b[39mprecision)\n\u001b[0;32m--> 844\u001b[0m         \u001b[38;5;28;01mraise\u001b[39;00m \u001b[38;5;167;01mAssertionError\u001b[39;00m(msg)\n\u001b[1;32m    845\u001b[0m \u001b[38;5;28;01mexcept\u001b[39;00m \u001b[38;5;167;01mValueError\u001b[39;00m:\n\u001b[1;32m    846\u001b[0m     \u001b[38;5;28;01mimport\u001b[39;00m \u001b[38;5;21;01mtraceback\u001b[39;00m\n",
      "\u001b[0;31mAssertionError\u001b[0m: \nNot equal to tolerance rtol=0, atol=1e-07\n\nMismatched elements: 736084 / 100000000 (0.736%)\nMax absolute difference: 2.38294763e-07\nMax relative difference: 5.95987588e-08\n x: array([[ 1.788628,  0.43651 ,  0.096497, ...,  0.742021, -0.455719,\n         0.422186],\n       [-0.041542, -1.826522, -0.844802, ..., -0.381443,  0.552564,...\n y: array([[ 1.788628,  0.43651 ,  0.096497, ...,  0.742021, -0.455719,\n         0.422186],\n       [-0.041542, -1.826522, -0.844802, ..., -0.381443,  0.552564,..."
     ]
    }
   ],
   "source": [
    "np.testing.assert_allclose(actual=arr32,desired=arr64,atol=1e-7,rtol=0)"
   ]
  },
  {
   "cell_type": "markdown",
   "id": "a8ac15d8-29af-45d2-bf42-83b03c296ab3",
   "metadata": {},
   "source": [
    "# Timing operations\n",
    "\n",
    "## Mean along an axis\n",
    "How long does it take to take the mean for each array?"
   ]
  },
  {
   "cell_type": "code",
   "execution_count": 22,
   "id": "4d34bcc7-e671-4c06-8deb-d4440f4b8ffe",
   "metadata": {},
   "outputs": [
    {
     "data": {
      "text/markdown": [
       "**64-bit**"
      ],
      "text/plain": [
       "<IPython.core.display.Markdown object>"
      ]
     },
     "metadata": {},
     "output_type": "display_data"
    },
    {
     "name": "stdout",
     "output_type": "stream",
     "text": [
      "101 ms ± 34.1 ms per loop (mean ± std. dev. of 7 runs, 1 loop each)\n"
     ]
    },
    {
     "data": {
      "text/markdown": [
       "**32-bit**"
      ],
      "text/plain": [
       "<IPython.core.display.Markdown object>"
      ]
     },
     "metadata": {},
     "output_type": "display_data"
    },
    {
     "name": "stdout",
     "output_type": "stream",
     "text": [
      "42 ms ± 3.31 ms per loop (mean ± std. dev. of 7 runs, 1 loop each)\n"
     ]
    },
    {
     "data": {
      "text/markdown": [
       "**16-bit**"
      ],
      "text/plain": [
       "<IPython.core.display.Markdown object>"
      ]
     },
     "metadata": {},
     "output_type": "display_data"
    },
    {
     "name": "stdout",
     "output_type": "stream",
     "text": [
      "The slowest run took 4.22 times longer than the fastest. This could mean that an intermediate result is being cached.\n",
      "354 ms ± 256 ms per loop (mean ± std. dev. of 7 runs, 1 loop each)\n"
     ]
    }
   ],
   "source": [
    "printmd('**64-bit**')\n",
    "%timeit -n 1 arr64.mean(axis=0)\n",
    "printmd('**32-bit**')\n",
    "%timeit -n 1 arr32.mean(axis=0)\n",
    "printmd('**16-bit**')\n",
    "%timeit -n 1 arr16.mean(axis=0)"
   ]
  },
  {
   "cell_type": "markdown",
   "id": "2ffad7e8-af8f-43c9-b19e-c1f49db019c9",
   "metadata": {},
   "source": [
    "We see that the operation on the 32-bit array is about twice as fast as on the 64-bit array while the 16-bit array is much slower than both. This is because the CPU does not have native support for 16-bits and so it must be emulated.\n",
    "\n",
    "## Matrix multiplication\n",
    "\n",
    "Let's try a more demanding computation - takinng the square of the array"
   ]
  },
  {
   "cell_type": "code",
   "execution_count": 14,
   "id": "d59c9287-00d6-49a0-b634-ec26acd7474d",
   "metadata": {},
   "outputs": [
    {
     "data": {
      "text/markdown": [
       "**64-bit**"
      ],
      "text/plain": [
       "<IPython.core.display.Markdown object>"
      ]
     },
     "metadata": {},
     "output_type": "display_data"
    },
    {
     "name": "stdout",
     "output_type": "stream",
     "text": [
      "493 ms ± 24.1 ms per loop (mean ± std. dev. of 7 runs, 1 loop each)\n"
     ]
    },
    {
     "data": {
      "text/markdown": [
       "**32-bit**"
      ],
      "text/plain": [
       "<IPython.core.display.Markdown object>"
      ]
     },
     "metadata": {},
     "output_type": "display_data"
    },
    {
     "name": "stdout",
     "output_type": "stream",
     "text": [
      "248 ms ± 8.27 ms per loop (mean ± std. dev. of 7 runs, 1 loop each)\n"
     ]
    },
    {
     "data": {
      "text/markdown": [
       "**16-bit**"
      ],
      "text/plain": [
       "<IPython.core.display.Markdown object>"
      ]
     },
     "metadata": {},
     "output_type": "display_data"
    },
    {
     "name": "stdout",
     "output_type": "stream",
     "text": [
      "840 ms ± 120 ms per loop (mean ± std. dev. of 7 runs, 1 loop each)\n"
     ]
    }
   ],
   "source": [
    "printmd('**64-bit**')\n",
    "%timeit -n 1 arr64**2\n",
    "printmd('**32-bit**')\n",
    "%timeit -n 1 arr32**2\n",
    "printmd('**16-bit**')\n",
    "%timeit -n 1 arr16**2"
   ]
  },
  {
   "cell_type": "markdown",
   "id": "a741c6ef-acf3-4587-90b8-d2d68b3ccb3b",
   "metadata": {},
   "source": [
    "Again we see that the operation on the 32-bit array is about twice as fast as on the 64-bit array"
   ]
  },
  {
   "cell_type": "code",
   "execution_count": null,
   "id": "9d0ff53b-780a-4292-a651-3e1fe846e7cd",
   "metadata": {},
   "outputs": [],
   "source": []
  }
 ],
 "metadata": {
  "kernelspec": {
   "display_name": "demo-env",
   "language": "python",
   "name": "demo-env"
  },
  "language_info": {
   "codemirror_mode": {
    "name": "ipython",
    "version": 3
   },
   "file_extension": ".py",
   "mimetype": "text/x-python",
   "name": "python",
   "nbconvert_exporter": "python",
   "pygments_lexer": "ipython3",
   "version": "3.9.1"
  }
 },
 "nbformat": 4,
 "nbformat_minor": 5
}
