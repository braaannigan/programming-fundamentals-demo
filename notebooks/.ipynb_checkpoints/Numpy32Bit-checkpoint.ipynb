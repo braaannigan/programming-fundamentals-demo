{
 "cells": [
  {
   "cell_type": "code",
   "execution_count": 39,
   "id": "1645209a-a968-4dcd-b351-a04c21447ba1",
   "metadata": {},
   "outputs": [],
   "source": [
    "import numpy as np\n",
    "\n",
    "from IPython.display import Markdown, display"
   ]
  },
  {
   "cell_type": "code",
   "execution_count": 40,
   "id": "6399d257-0afb-4c67-915d-ccb77f2547d5",
   "metadata": {},
   "outputs": [],
   "source": [
    "def printmd(string):\n",
    "    display(Markdown(string))"
   ]
  },
  {
   "cell_type": "code",
   "execution_count": 16,
   "id": "303b6b31-b8cf-4f63-b6f6-26e3d5e9f16b",
   "metadata": {},
   "outputs": [],
   "source": [
    "np.random.seed(3)\n",
    "N = 10000\n",
    "arr64 = np.random.standard_normal((N,N))"
   ]
  },
  {
   "cell_type": "code",
   "execution_count": 17,
   "id": "8ff2b8fe-fc4f-4ac0-a16f-cab6606864b5",
   "metadata": {},
   "outputs": [
    {
     "data": {
      "text/plain": [
       "dtype('float64')"
      ]
     },
     "execution_count": 17,
     "metadata": {},
     "output_type": "execute_result"
    }
   ],
   "source": [
    "arr64.dtype"
   ]
  },
  {
   "cell_type": "code",
   "execution_count": 18,
   "id": "f856cf99-b827-47dd-b252-dcc06d996f0d",
   "metadata": {},
   "outputs": [],
   "source": [
    "arr32 = arr64.astype(np.float32)\n",
    "arr16 = arr64.astype(np.float16)"
   ]
  },
  {
   "cell_type": "code",
   "execution_count": 19,
   "id": "b9f5e4f6-e840-4a61-b2e2-30671565bcd4",
   "metadata": {},
   "outputs": [
    {
     "name": "stdout",
     "output_type": "stream",
     "text": [
      "Size of 64-bit array in Mb: 800.0\n",
      "Size of 32-bit array in Mb: 400.0\n",
      "Size of 16-bit array in Mb: 200.0\n"
     ]
    }
   ],
   "source": [
    "print(f\"Size of 64-bit array in Mb: {arr64.nbytes/1e6}\")\n",
    "print(f\"Size of 32-bit array in Mb: {arr32.nbytes/1e6}\")\n",
    "print(f\"Size of 16-bit array in Mb: {arr16.nbytes/1e6}\")"
   ]
  },
  {
   "cell_type": "markdown",
   "id": "9d73554f-4ac8-49d1-8f4d-23cc7cb22538",
   "metadata": {},
   "source": [
    "# Changes in values with changes in precision\n",
    "\n",
    "We first test if the 64-bit and 32-but arrays are equal to 6 decimal places"
   ]
  },
  {
   "cell_type": "code",
   "execution_count": 35,
   "id": "8f2fd0cd-325e-4157-9142-3a0e2f16ff10",
   "metadata": {},
   "outputs": [
    {
     "name": "stdout",
     "output_type": "stream",
     "text": [
      "Test if the 64-bit and 32-bit arrays are equal to 6 decimal places\n"
     ]
    }
   ],
   "source": [
    "np.testing.assert_allclose(actual=arr32,desired=arr64,atol=1e-6,rtol=0)"
   ]
  },
  {
   "cell_type": "markdown",
   "id": "2373a66d-efef-4832-bb68-bf2912a8de63",
   "metadata": {},
   "source": [
    "We then test if the 64-bit and 32-but arrays are equal to 7 decimal places"
   ]
  },
  {
   "cell_type": "code",
   "execution_count": 46,
   "id": "b3b97824-e0f2-4547-99aa-f39b34ebbf7e",
   "metadata": {},
   "outputs": [
    {
     "ename": "AssertionError",
     "evalue": "\nNot equal to tolerance rtol=0, atol=1e-07\n\nMismatched elements: 735120 / 100000000 (0.735%)\nMax absolute difference: 2.38417457e-07\nMax relative difference: 5.95947228e-08\n x: array([[-0.711558, -0.12737 ,  2.053463, ...,  0.123221, -0.34087 ,\n         0.520184],\n       [ 1.401997,  0.507509,  1.202365, ..., -0.084406, -0.271492,...\n y: array([[-0.711558, -0.12737 ,  2.053464, ...,  0.123221, -0.34087 ,\n         0.520184],\n       [ 1.401997,  0.507509,  1.202365, ..., -0.084406, -0.271492,...",
     "output_type": "error",
     "traceback": [
      "\u001b[0;31m---------------------------------------------------------------------------\u001b[0m",
      "\u001b[0;31mAssertionError\u001b[0m                            Traceback (most recent call last)",
      "Input \u001b[0;32mIn [46]\u001b[0m, in \u001b[0;36m<module>\u001b[0;34m\u001b[0m\n\u001b[0;32m----> 1\u001b[0m \u001b[43mnp\u001b[49m\u001b[38;5;241;43m.\u001b[39;49m\u001b[43mtesting\u001b[49m\u001b[38;5;241;43m.\u001b[39;49m\u001b[43massert_allclose\u001b[49m\u001b[43m(\u001b[49m\u001b[43mactual\u001b[49m\u001b[38;5;241;43m=\u001b[39;49m\u001b[43marr32\u001b[49m\u001b[43m,\u001b[49m\u001b[43mdesired\u001b[49m\u001b[38;5;241;43m=\u001b[39;49m\u001b[43marr64\u001b[49m\u001b[43m,\u001b[49m\u001b[43matol\u001b[49m\u001b[38;5;241;43m=\u001b[39;49m\u001b[38;5;241;43m1e-7\u001b[39;49m\u001b[43m,\u001b[49m\u001b[43mrtol\u001b[49m\u001b[38;5;241;43m=\u001b[39;49m\u001b[38;5;241;43m0\u001b[39;49m\u001b[43m)\u001b[49m\n",
      "    \u001b[0;31m[... skipping hidden 1 frame]\u001b[0m\n",
      "File \u001b[0;32m~/playModels/programming-fundamentals-demo/demo-env/lib/python3.9/site-packages/numpy/testing/_private/utils.py:844\u001b[0m, in \u001b[0;36massert_array_compare\u001b[0;34m(comparison, x, y, err_msg, verbose, header, precision, equal_nan, equal_inf)\u001b[0m\n\u001b[1;32m    840\u001b[0m         err_msg \u001b[38;5;241m+\u001b[39m\u001b[38;5;241m=\u001b[39m \u001b[38;5;124m'\u001b[39m\u001b[38;5;130;01m\\n\u001b[39;00m\u001b[38;5;124m'\u001b[39m \u001b[38;5;241m+\u001b[39m \u001b[38;5;124m'\u001b[39m\u001b[38;5;130;01m\\n\u001b[39;00m\u001b[38;5;124m'\u001b[39m\u001b[38;5;241m.\u001b[39mjoin(remarks)\n\u001b[1;32m    841\u001b[0m         msg \u001b[38;5;241m=\u001b[39m build_err_msg([ox, oy], err_msg,\n\u001b[1;32m    842\u001b[0m                             verbose\u001b[38;5;241m=\u001b[39mverbose, header\u001b[38;5;241m=\u001b[39mheader,\n\u001b[1;32m    843\u001b[0m                             names\u001b[38;5;241m=\u001b[39m(\u001b[38;5;124m'\u001b[39m\u001b[38;5;124mx\u001b[39m\u001b[38;5;124m'\u001b[39m, \u001b[38;5;124m'\u001b[39m\u001b[38;5;124my\u001b[39m\u001b[38;5;124m'\u001b[39m), precision\u001b[38;5;241m=\u001b[39mprecision)\n\u001b[0;32m--> 844\u001b[0m         \u001b[38;5;28;01mraise\u001b[39;00m \u001b[38;5;167;01mAssertionError\u001b[39;00m(msg)\n\u001b[1;32m    845\u001b[0m \u001b[38;5;28;01mexcept\u001b[39;00m \u001b[38;5;167;01mValueError\u001b[39;00m:\n\u001b[1;32m    846\u001b[0m     \u001b[38;5;28;01mimport\u001b[39;00m \u001b[38;5;21;01mtraceback\u001b[39;00m\n",
      "\u001b[0;31mAssertionError\u001b[0m: \nNot equal to tolerance rtol=0, atol=1e-07\n\nMismatched elements: 735120 / 100000000 (0.735%)\nMax absolute difference: 2.38417457e-07\nMax relative difference: 5.95947228e-08\n x: array([[-0.711558, -0.12737 ,  2.053463, ...,  0.123221, -0.34087 ,\n         0.520184],\n       [ 1.401997,  0.507509,  1.202365, ..., -0.084406, -0.271492,...\n y: array([[-0.711558, -0.12737 ,  2.053464, ...,  0.123221, -0.34087 ,\n         0.520184],\n       [ 1.401997,  0.507509,  1.202365, ..., -0.084406, -0.271492,..."
     ]
    }
   ],
   "source": [
    "np.testing.assert_allclose(actual=arr32,desired=arr64,atol=1e-7,rtol=0)"
   ]
  },
  {
   "cell_type": "markdown",
   "id": "a8ac15d8-29af-45d2-bf42-83b03c296ab3",
   "metadata": {},
   "source": [
    "# Timing operations\n",
    "\n",
    "## Mean along an axis\n",
    "How long does it take for each array?"
   ]
  },
  {
   "cell_type": "code",
   "execution_count": 42,
   "id": "4d34bcc7-e671-4c06-8deb-d4440f4b8ffe",
   "metadata": {},
   "outputs": [
    {
     "data": {
      "text/markdown": [
       "**64-bit**"
      ],
      "text/plain": [
       "<IPython.core.display.Markdown object>"
      ]
     },
     "metadata": {},
     "output_type": "display_data"
    },
    {
     "name": "stdout",
     "output_type": "stream",
     "text": [
      "68.4 ms ± 15.9 ms per loop (mean ± std. dev. of 7 runs, 1 loop each)\n"
     ]
    },
    {
     "data": {
      "text/markdown": [
       "**32-bit**"
      ],
      "text/plain": [
       "<IPython.core.display.Markdown object>"
      ]
     },
     "metadata": {},
     "output_type": "display_data"
    },
    {
     "name": "stdout",
     "output_type": "stream",
     "text": [
      "30.3 ms ± 3.16 ms per loop (mean ± std. dev. of 7 runs, 1 loop each)\n"
     ]
    },
    {
     "data": {
      "text/markdown": [
       "**16-bit**"
      ],
      "text/plain": [
       "<IPython.core.display.Markdown object>"
      ]
     },
     "metadata": {},
     "output_type": "display_data"
    },
    {
     "name": "stdout",
     "output_type": "stream",
     "text": [
      "207 ms ± 2.58 ms per loop (mean ± std. dev. of 7 runs, 1 loop each)\n"
     ]
    }
   ],
   "source": [
    "printmd('**64-bit**')\n",
    "%timeit -n 1 arr64.mean(axis=0)\n",
    "printmd('**32-bit**')\n",
    "%timeit -n 1 arr32.mean(axis=0)\n",
    "printmd('**16-bit**')\n",
    "%timeit -n 1 arr16.mean(axis=0)"
   ]
  },
  {
   "cell_type": "markdown",
   "id": "2ffad7e8-af8f-43c9-b19e-c1f49db019c9",
   "metadata": {},
   "source": [
    "## Matrix multiplication"
   ]
  },
  {
   "cell_type": "code",
   "execution_count": 45,
   "id": "d59c9287-00d6-49a0-b634-ec26acd7474d",
   "metadata": {},
   "outputs": [
    {
     "data": {
      "text/markdown": [
       "**64-bit**"
      ],
      "text/plain": [
       "<IPython.core.display.Markdown object>"
      ]
     },
     "metadata": {},
     "output_type": "display_data"
    },
    {
     "name": "stdout",
     "output_type": "stream",
     "text": [
      "429 ms ± 27.3 ms per loop (mean ± std. dev. of 7 runs, 1 loop each)\n"
     ]
    },
    {
     "data": {
      "text/markdown": [
       "**32-bit**"
      ],
      "text/plain": [
       "<IPython.core.display.Markdown object>"
      ]
     },
     "metadata": {},
     "output_type": "display_data"
    },
    {
     "name": "stdout",
     "output_type": "stream",
     "text": [
      "208 ms ± 2.96 ms per loop (mean ± std. dev. of 7 runs, 1 loop each)\n"
     ]
    },
    {
     "data": {
      "text/markdown": [
       "**16-bit**"
      ],
      "text/plain": [
       "<IPython.core.display.Markdown object>"
      ]
     },
     "metadata": {},
     "output_type": "display_data"
    },
    {
     "name": "stdout",
     "output_type": "stream",
     "text": [
      "747 ms ± 21.6 ms per loop (mean ± std. dev. of 7 runs, 1 loop each)\n"
     ]
    }
   ],
   "source": [
    "printmd('**64-bit**')\n",
    "%timeit -n 1 arr64**2\n",
    "printmd('**32-bit**')\n",
    "%timeit -n 1 arr32**2\n",
    "printmd('**16-bit**')\n",
    "%timeit -n 1 arr16**2"
   ]
  },
  {
   "cell_type": "code",
   "execution_count": null,
   "id": "421ee5b3-f86b-49c9-a1c3-0b58a383b758",
   "metadata": {},
   "outputs": [],
   "source": []
  },
  {
   "cell_type": "code",
   "execution_count": null,
   "id": "9d0ff53b-780a-4292-a651-3e1fe846e7cd",
   "metadata": {},
   "outputs": [],
   "source": []
  }
 ],
 "metadata": {
  "kernelspec": {
   "display_name": "demo-env",
   "language": "python",
   "name": "demo-env"
  },
  "language_info": {
   "codemirror_mode": {
    "name": "ipython",
    "version": 3
   },
   "file_extension": ".py",
   "mimetype": "text/x-python",
   "name": "python",
   "nbconvert_exporter": "python",
   "pygments_lexer": "ipython3",
   "version": "3.9.1"
  }
 },
 "nbformat": 4,
 "nbformat_minor": 5
}
