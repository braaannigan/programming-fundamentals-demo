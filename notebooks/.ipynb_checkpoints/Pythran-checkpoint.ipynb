{
 "cells": [
  {
   "cell_type": "markdown",
   "id": "755faa3f-cb1f-4bcd-8c41-073e4d4d9696",
   "metadata": {},
   "source": [
    "# Accelerating numpy with Pythran\n",
    "\n",
    "Pythran might be a way to accelerate a bottleneck function in your code by compiling it to C++.\n",
    "\n",
    "We begin with some imports including the `pythran` magic extension. This magic allows you to use pythran like a just-in-time compiler in ipython and jupyter"
   ]
  },
  {
   "cell_type": "code",
   "execution_count": 1,
   "id": "d5b2e7b7-4fa7-468f-a0a9-2c8ff041f407",
   "metadata": {},
   "outputs": [],
   "source": [
    "from pathlib import Path\n",
    "\n",
    "import pandas as pd\n",
    "import numpy as np\n",
    "import pythran\n",
    "\n",
    "import altair as alt\n",
    "\n",
    "from IPython.display import Markdown, display\n",
    "\n",
    "%load_ext pythran.magic"
   ]
  },
  {
   "cell_type": "markdown",
   "id": "d5079b59-ba8d-4390-9b08-2b8721fb2d10",
   "metadata": {},
   "source": [
    "Create a print function that lets us use markdown formatting"
   ]
  },
  {
   "cell_type": "code",
   "execution_count": 2,
   "id": "9d5b4330-cec7-45d7-83f5-536c5b6ae40c",
   "metadata": {},
   "outputs": [],
   "source": [
    "def printmd(string):\n",
    "    display(Markdown(string))"
   ]
  },
  {
   "cell_type": "markdown",
   "id": "874b5c0c-51c2-4ef3-b1fc-3b671dbf316b",
   "metadata": {},
   "source": [
    "# Long array operation"
   ]
  },
  {
   "cell_type": "code",
   "execution_count": 25,
   "id": "eaa4312b-7c55-495a-bfac-e0311b18d5d1",
   "metadata": {},
   "outputs": [],
   "source": [
    "def getATPNumpy(T,P):\n",
    "    A00 = 1\n",
    "    A_t_p = ((A00 + (A00*T) + (A00*(T**2)) + (A00*(T**3)) + (A00*(T**4)))    +\n",
    "             (A00 + (A00*T) + (A00*(T**2)) + (A00*(T**3)) + (A00*(T**4)))*P + \n",
    "             (A00 + (A00*T) + (A00*(T**2)) + (A00*(T**3)))*(P**2) + \n",
    "             (A00 + (A00*T) + (A00*(T**2)))*(P**3))\n",
    "    return A_t_p"
   ]
  },
  {
   "cell_type": "markdown",
   "id": "e61937f0-5ccb-4cfe-95a2-e14475e4dd2e",
   "metadata": {},
   "source": [
    "### Compile the pythran function using the cell magic"
   ]
  },
  {
   "cell_type": "code",
   "execution_count": 26,
   "id": "11fd1a07-edfd-44e2-8bfc-0fe4cd5cb604",
   "metadata": {},
   "outputs": [],
   "source": [
    "%%pythran \n",
    "#pythran export getATPPythran(float64[:,:] order(C), float64[:,:] order(C))\n",
    "def getATPPythran(T,P):\n",
    "    A00 = 1\n",
    "    A_t_p = ((A00 + (A00*T) + (A00*(T**2)) + (A00*(T**3)) + (A00*(T**4)))    +\n",
    "             (A00 + (A00*T) + (A00*(T**2)) + (A00*(T**3)) + (A00*(T**4)))*P + \n",
    "             (A00 + (A00*T) + (A00*(T**2)) + (A00*(T**3)))*(P**2) + \n",
    "             (A00 + (A00*T) + (A00*(T**2)))*(P**3))\n",
    "    return A_t_p"
   ]
  },
  {
   "cell_type": "markdown",
   "id": "041b0ac7-eab7-4d24-8e01-de3c846a35f2",
   "metadata": {},
   "source": [
    "### Generate the array"
   ]
  },
  {
   "cell_type": "code",
   "execution_count": 46,
   "id": "c03a7278-20ce-4ec1-9a8f-e8900bf65374",
   "metadata": {},
   "outputs": [],
   "source": [
    "A00 = 1.0\n",
    "np.random.seed(3)\n",
    "def generateArray(z:np.ndarray,N=10):\n",
    "    T = np.random.standard_normal((len(z),N))\n",
    "    return T"
   ]
  },
  {
   "cell_type": "code",
   "execution_count": 47,
   "id": "3da3d83f-3a77-4991-b669-1041c11287d9",
   "metadata": {},
   "outputs": [],
   "source": [
    "T = generateArray(z=z,N=1000)"
   ]
  },
  {
   "cell_type": "code",
   "execution_count": 29,
   "id": "26002b05-fe1b-461a-95d7-808855fa8c40",
   "metadata": {},
   "outputs": [
    {
     "ename": "AssertionError",
     "evalue": "\nArrays are not equal\n\nMismatched elements: 343 / 199000 (0.172%)\nMax absolute difference: 2.38418579e-07\nMax relative difference: 3.91785661e-16\n x: array([[3.548403e+02, 6.630850e+01, 4.424440e+01, ..., 5.934262e+01,\n        2.727742e+02, 2.860142e+01],\n       [2.682958e+02, 9.579535e+02, 8.703086e+02, ..., 1.998691e+02,...\n y: array([[3.548403e+02, 6.630850e+01, 4.424440e+01, ..., 5.934262e+01,\n        2.727742e+02, 2.860142e+01],\n       [2.682958e+02, 9.579535e+02, 8.703086e+02, ..., 1.998691e+02,...",
     "output_type": "error",
     "traceback": [
      "\u001b[0;31m---------------------------------------------------------------------------\u001b[0m",
      "\u001b[0;31mAssertionError\u001b[0m                            Traceback (most recent call last)",
      "Input \u001b[0;32mIn [29]\u001b[0m, in \u001b[0;36m<module>\u001b[0;34m\u001b[0m\n\u001b[0;32m----> 1\u001b[0m \u001b[43mnp\u001b[49m\u001b[38;5;241;43m.\u001b[39;49m\u001b[43mtesting\u001b[49m\u001b[38;5;241;43m.\u001b[39;49m\u001b[43massert_array_equal\u001b[49m\u001b[43m(\u001b[49m\u001b[43mgetATPPythran\u001b[49m\u001b[43m(\u001b[49m\u001b[43mT\u001b[49m\u001b[38;5;241;43m=\u001b[39;49m\u001b[43mT\u001b[49m\u001b[43m,\u001b[49m\u001b[43mP\u001b[49m\u001b[38;5;241;43m=\u001b[39;49m\u001b[38;5;241;43m-\u001b[39;49m\u001b[43mz\u001b[49m\u001b[43m[\u001b[49m\u001b[43m:\u001b[49m\u001b[43m,\u001b[49m\u001b[43mnp\u001b[49m\u001b[38;5;241;43m.\u001b[39;49m\u001b[43mnewaxis\u001b[49m\u001b[43m]\u001b[49m\u001b[43m)\u001b[49m\u001b[43m,\u001b[49m\u001b[43mgetATPNumpy\u001b[49m\u001b[43m(\u001b[49m\u001b[43mT\u001b[49m\u001b[38;5;241;43m=\u001b[39;49m\u001b[43mT\u001b[49m\u001b[43m,\u001b[49m\u001b[43mP\u001b[49m\u001b[38;5;241;43m=\u001b[39;49m\u001b[38;5;241;43m-\u001b[39;49m\u001b[43mz\u001b[49m\u001b[43m[\u001b[49m\u001b[43m:\u001b[49m\u001b[43m,\u001b[49m\u001b[43mnp\u001b[49m\u001b[38;5;241;43m.\u001b[39;49m\u001b[43mnewaxis\u001b[49m\u001b[43m]\u001b[49m\u001b[43m)\u001b[49m\u001b[43m)\u001b[49m\n",
      "    \u001b[0;31m[... skipping hidden 1 frame]\u001b[0m\n",
      "File \u001b[0;32m~/playModels/programming-fundamentals-demo/demo-env/lib/python3.9/site-packages/numpy/testing/_private/utils.py:844\u001b[0m, in \u001b[0;36massert_array_compare\u001b[0;34m(comparison, x, y, err_msg, verbose, header, precision, equal_nan, equal_inf)\u001b[0m\n\u001b[1;32m    840\u001b[0m         err_msg \u001b[38;5;241m+\u001b[39m\u001b[38;5;241m=\u001b[39m \u001b[38;5;124m'\u001b[39m\u001b[38;5;130;01m\\n\u001b[39;00m\u001b[38;5;124m'\u001b[39m \u001b[38;5;241m+\u001b[39m \u001b[38;5;124m'\u001b[39m\u001b[38;5;130;01m\\n\u001b[39;00m\u001b[38;5;124m'\u001b[39m\u001b[38;5;241m.\u001b[39mjoin(remarks)\n\u001b[1;32m    841\u001b[0m         msg \u001b[38;5;241m=\u001b[39m build_err_msg([ox, oy], err_msg,\n\u001b[1;32m    842\u001b[0m                             verbose\u001b[38;5;241m=\u001b[39mverbose, header\u001b[38;5;241m=\u001b[39mheader,\n\u001b[1;32m    843\u001b[0m                             names\u001b[38;5;241m=\u001b[39m(\u001b[38;5;124m'\u001b[39m\u001b[38;5;124mx\u001b[39m\u001b[38;5;124m'\u001b[39m, \u001b[38;5;124m'\u001b[39m\u001b[38;5;124my\u001b[39m\u001b[38;5;124m'\u001b[39m), precision\u001b[38;5;241m=\u001b[39mprecision)\n\u001b[0;32m--> 844\u001b[0m         \u001b[38;5;28;01mraise\u001b[39;00m \u001b[38;5;167;01mAssertionError\u001b[39;00m(msg)\n\u001b[1;32m    845\u001b[0m \u001b[38;5;28;01mexcept\u001b[39;00m \u001b[38;5;167;01mValueError\u001b[39;00m:\n\u001b[1;32m    846\u001b[0m     \u001b[38;5;28;01mimport\u001b[39;00m \u001b[38;5;21;01mtraceback\u001b[39;00m\n",
      "\u001b[0;31mAssertionError\u001b[0m: \nArrays are not equal\n\nMismatched elements: 343 / 199000 (0.172%)\nMax absolute difference: 2.38418579e-07\nMax relative difference: 3.91785661e-16\n x: array([[3.548403e+02, 6.630850e+01, 4.424440e+01, ..., 5.934262e+01,\n        2.727742e+02, 2.860142e+01],\n       [2.682958e+02, 9.579535e+02, 8.703086e+02, ..., 1.998691e+02,...\n y: array([[3.548403e+02, 6.630850e+01, 4.424440e+01, ..., 5.934262e+01,\n        2.727742e+02, 2.860142e+01],\n       [2.682958e+02, 9.579535e+02, 8.703086e+02, ..., 1.998691e+02,..."
     ]
    }
   ],
   "source": [
    "np.testing.assert_array_equal(getATPPythran(T=T,P=-z[:,np.newaxis]),getATPNumpy(T=T,P=-z[:,np.newaxis]))"
   ]
  },
  {
   "cell_type": "code",
   "execution_count": 50,
   "id": "18dcbab2-26ff-42f2-936c-44382523cbf3",
   "metadata": {},
   "outputs": [],
   "source": [
    "T = generateArray(z=z,N=100000)"
   ]
  },
  {
   "cell_type": "code",
   "execution_count": 51,
   "id": "9b067c88-5343-416d-8928-3e1bd3e8f288",
   "metadata": {},
   "outputs": [
    {
     "data": {
      "text/markdown": [
       "**Numpy**"
      ],
      "text/plain": [
       "<IPython.core.display.Markdown object>"
      ]
     },
     "metadata": {},
     "output_type": "display_data"
    },
    {
     "name": "stdout",
     "output_type": "stream",
     "text": [
      "4.4 s ± 0 ns per loop (mean ± std. dev. of 1 run, 1 loop each)\n"
     ]
    },
    {
     "data": {
      "text/markdown": [
       "**Pythran**"
      ],
      "text/plain": [
       "<IPython.core.display.Markdown object>"
      ]
     },
     "metadata": {},
     "output_type": "display_data"
    },
    {
     "name": "stdout",
     "output_type": "stream",
     "text": [
      "375 ms ± 0 ns per loop (mean ± std. dev. of 1 run, 1 loop each)\n"
     ]
    }
   ],
   "source": [
    "printmd(\"**Numpy**\")\n",
    "%timeit -n 1 -r 1 getATPNumpy(T=T,P=-z[:,np.newaxis])\n",
    "printmd(\"**Pythran**\")\n",
    "%timeit -n 1 -r 1 getATPPythran(T=T,P=-z[:,np.newaxis])"
   ]
  },
  {
   "cell_type": "code",
   "execution_count": null,
   "id": "0cf710bc-f845-40c9-b431-0d7fe180b6eb",
   "metadata": {},
   "outputs": [],
   "source": []
  }
 ],
 "metadata": {
  "kernelspec": {
   "display_name": "Python 3 (ipykernel)",
   "language": "python",
   "name": "python3"
  },
  "language_info": {
   "codemirror_mode": {
    "name": "ipython",
    "version": 3
   },
   "file_extension": ".py",
   "mimetype": "text/x-python",
   "name": "python",
   "nbconvert_exporter": "python",
   "pygments_lexer": "ipython3",
   "version": "3.9.1"
  }
 },
 "nbformat": 4,
 "nbformat_minor": 5
}
