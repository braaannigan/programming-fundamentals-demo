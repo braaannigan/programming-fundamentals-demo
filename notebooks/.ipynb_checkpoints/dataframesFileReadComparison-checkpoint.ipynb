{
 "cells": [
  {
   "cell_type": "code",
   "execution_count": 9,
   "id": "aad76797-3a9a-4a49-a3ed-3132ce3b5a5a",
   "metadata": {},
   "outputs": [],
   "source": [
    "# !pip install polars\n",
    "# !pip install vaex\n",
    "# !pip install duckdb\n",
    "# !pip install fastparquet"
   ]
  },
  {
   "cell_type": "code",
   "execution_count": 10,
   "id": "c751378d-f0fb-4b23-8387-92c14f4c32cf",
   "metadata": {},
   "outputs": [],
   "source": [
    "from pathlib import Path\n",
    "\n",
    "import pandas as pd\n",
    "import vaex as vx\n",
    "import polars as pl\n",
    "import duckdb\n",
    "import numpy as np\n",
    "\n",
    "from IPython.display import Markdown, display"
   ]
  },
  {
   "cell_type": "code",
   "execution_count": 11,
   "id": "2ebecd92-b79e-47ed-aa65-667101d2e112",
   "metadata": {},
   "outputs": [],
   "source": [
    "def printmd(string):\n",
    "    display(Markdown(string))"
   ]
  },
  {
   "cell_type": "code",
   "execution_count": 12,
   "id": "714da8d3-aab8-4197-b2e4-4cfe26b6db56",
   "metadata": {},
   "outputs": [],
   "source": [
    "# N = 1000000\n",
    "# df = pd.DataFrame(np.random.standard_normal((N,100)))\n",
    "# # Parquet requires string column names\n",
    "# df.columns = [str(el) for el in df.columns]\n",
    "# rawDataPath = Path('../data/raw')\n",
    "# csvFile = rawDataPath / 'large.csv'\n",
    "# parquetFile = rawDataPath / 'large.parquet'\n",
    "# print('Write CSV')\n",
    "# df.to_csv(csvFile,index=False)\n",
    "# print('Write Parquet')\n",
    "# df.to_parquet(parquetFile,index=False)\n",
    "                  \n",
    "    "
   ]
  },
  {
   "cell_type": "code",
   "execution_count": null,
   "id": "7dc76b0d-2e03-49e1-890c-a3c93a845bdf",
   "metadata": {},
   "outputs": [],
   "source": []
  },
  {
   "cell_type": "markdown",
   "id": "82335c1f-6abd-46f2-8649-12537fdb80dc",
   "metadata": {},
   "source": [
    "### Compare size of the files on disk\n",
    "\n",
    "#### Parquet is much smaller even though this dataset with lots of floats is not highly compressible"
   ]
  },
  {
   "cell_type": "code",
   "execution_count": 13,
   "id": "79cfb53a-ddd7-4806-9f4f-189c310c48ef",
   "metadata": {},
   "outputs": [
    {
     "name": "stdout",
     "output_type": "stream",
     "text": [
      "1.8G\t../data/raw/large.csv\n",
      "805M\t../data/raw/large.parquet\n"
     ]
    }
   ],
   "source": [
    "!du -h ../data/raw/large.*"
   ]
  },
  {
   "cell_type": "markdown",
   "id": "a3e15787-26d1-48dc-a135-afaad2a1ce2b",
   "metadata": {},
   "source": [
    "The time benchmarks here should be taken with a pinch of salt. These libraries have many distinct features beyond that captured here. For example:\n",
    "- DuckDB is a very lightweight dependancy that makes it highly portable - for example it could be deployed on an instrument\n",
    "- DuckDB has aimed for a wide testing base rather than optimising for performance\n",
    "- Vaex is optimised for large (>100GB) datasets\n",
    "- etc"
   ]
  },
  {
   "cell_type": "code",
   "execution_count": 14,
   "id": "ac9e909a-cdb4-40e6-bd39-281e581bf23b",
   "metadata": {},
   "outputs": [],
   "source": [
    "# to start an in-memory database for duckdb\n",
    "con = duckdb.connect(database=':memory:')"
   ]
  },
  {
   "cell_type": "markdown",
   "id": "7a0dbfa2-38ac-4c8b-b990-59fa565b0c12",
   "metadata": {},
   "source": [
    "# Compare read time for a CSV"
   ]
  },
  {
   "cell_type": "code",
   "execution_count": 15,
   "id": "95d35483-ad1f-45b8-9f0c-20240422e93d",
   "metadata": {},
   "outputs": [
    {
     "data": {
      "text/markdown": [
       "**Pandas with default C parser**"
      ],
      "text/plain": [
       "<IPython.core.display.Markdown object>"
      ]
     },
     "metadata": {},
     "output_type": "display_data"
    },
    {
     "name": "stdout",
     "output_type": "stream",
     "text": [
      "24.8 s ± 0 ns per loop (mean ± std. dev. of 1 run, 1 loop each)\n"
     ]
    }
   ],
   "source": [
    "printmd(\"**Pandas with default C parser**\")\n",
    "%timeit -n 1 -r 1 pd.read_csv(csvFile)"
   ]
  },
  {
   "cell_type": "code",
   "execution_count": 16,
   "id": "623c8b5f-5433-497c-8fe7-25580ef097b0",
   "metadata": {},
   "outputs": [
    {
     "data": {
      "text/markdown": [
       "**Pandas with pyarrow parser**"
      ],
      "text/plain": [
       "<IPython.core.display.Markdown object>"
      ]
     },
     "metadata": {},
     "output_type": "display_data"
    },
    {
     "name": "stdout",
     "output_type": "stream",
     "text": [
      "6.61 s ± 0 ns per loop (mean ± std. dev. of 1 run, 1 loop each)\n"
     ]
    }
   ],
   "source": [
    "printmd(\"**Pandas with pyarrow parser**\")\n",
    "%timeit -n 1 -r 1 pd.read_csv(csvFile,engine='pyarrow')"
   ]
  },
  {
   "cell_type": "code",
   "execution_count": 17,
   "id": "ed948fb4-4125-4fc0-b8bd-db3c8e75e043",
   "metadata": {},
   "outputs": [
    {
     "data": {
      "text/markdown": [
       "**Vaex**"
      ],
      "text/plain": [
       "<IPython.core.display.Markdown object>"
      ]
     },
     "metadata": {},
     "output_type": "display_data"
    },
    {
     "name": "stdout",
     "output_type": "stream",
     "text": [
      "29.9 s ± 0 ns per loop (mean ± std. dev. of 1 run, 1 loop each)\n"
     ]
    }
   ],
   "source": [
    "printmd(\"**Vaex**\")\n",
    "%timeit -n 1 -r 1 vx.read_csv(csvFile)"
   ]
  },
  {
   "cell_type": "code",
   "execution_count": 18,
   "id": "d8f17cab-27b8-416b-9af6-e4c5962acef5",
   "metadata": {},
   "outputs": [
    {
     "data": {
      "text/markdown": [
       "**Polars**"
      ],
      "text/plain": [
       "<IPython.core.display.Markdown object>"
      ]
     },
     "metadata": {},
     "output_type": "display_data"
    },
    {
     "name": "stdout",
     "output_type": "stream",
     "text": [
      "3.16 s ± 0 ns per loop (mean ± std. dev. of 1 run, 1 loop each)\n"
     ]
    }
   ],
   "source": [
    "printmd(\"**Polars**\")\n",
    "%timeit -n 1 -r 1 pl.read_csv(csvFile)"
   ]
  },
  {
   "cell_type": "code",
   "execution_count": 19,
   "id": "bc05c106-3a6b-4489-8e5a-a2f0542f79ca",
   "metadata": {},
   "outputs": [
    {
     "data": {
      "text/markdown": [
       "**DuckDB**"
      ],
      "text/plain": [
       "<IPython.core.display.Markdown object>"
      ]
     },
     "metadata": {},
     "output_type": "display_data"
    },
    {
     "name": "stdout",
     "output_type": "stream",
     "text": [
      "24.1 s ± 0 ns per loop (mean ± std. dev. of 1 run, 1 loop each)\n"
     ]
    }
   ],
   "source": [
    "printmd(\"**DuckDB**\")\n",
    "%timeit -n 1 -r 1 con.execute(f\"SELECT * FROM '{csvFile}';\").fetchdf()"
   ]
  },
  {
   "cell_type": "raw",
   "id": "29964369-ed06-4ecf-a8d2-99b4cfc3f699",
   "metadata": {},
   "source": []
  },
  {
   "cell_type": "markdown",
   "id": "720a8d3b-3d49-4c3d-9c02-7090b53a377b",
   "metadata": {},
   "source": [
    "# Compare read time for a Parquet file"
   ]
  },
  {
   "cell_type": "code",
   "execution_count": 20,
   "id": "e3655b34-efdd-407e-8b3b-032b71d22276",
   "metadata": {},
   "outputs": [
    {
     "data": {
      "text/markdown": [
       "**Pandas with default parquet reader**"
      ],
      "text/plain": [
       "<IPython.core.display.Markdown object>"
      ]
     },
     "metadata": {},
     "output_type": "display_data"
    },
    {
     "name": "stdout",
     "output_type": "stream",
     "text": [
      "4.61 s ± 0 ns per loop (mean ± std. dev. of 1 run, 1 loop each)\n"
     ]
    }
   ],
   "source": [
    "printmd(\"**Pandas with default parquet reader**\")\n",
    "%timeit -n 1 -r 1 pd.read_parquet(parquetFile)"
   ]
  },
  {
   "cell_type": "code",
   "execution_count": 21,
   "id": "2859bd50-cc3b-4059-aec0-1fe1a75b3059",
   "metadata": {},
   "outputs": [
    {
     "data": {
      "text/markdown": [
       "**Pandas with pyarrow parquet reader**"
      ],
      "text/plain": [
       "<IPython.core.display.Markdown object>"
      ]
     },
     "metadata": {},
     "output_type": "display_data"
    },
    {
     "name": "stdout",
     "output_type": "stream",
     "text": [
      "1.74 s ± 0 ns per loop (mean ± std. dev. of 1 run, 1 loop each)\n"
     ]
    }
   ],
   "source": [
    "printmd(\"**Pandas with pyarrow parquet reader**\")\n",
    "%timeit -n 1 -r 1 pd.read_parquet(parquetFile,engine='pyarrow')"
   ]
  },
  {
   "cell_type": "code",
   "execution_count": 22,
   "id": "5413f233-3a9d-42ef-be72-6941a7e3b8c2",
   "metadata": {},
   "outputs": [
    {
     "data": {
      "text/markdown": [
       "**Pandas with fastparquet reader**"
      ],
      "text/plain": [
       "<IPython.core.display.Markdown object>"
      ]
     },
     "metadata": {},
     "output_type": "display_data"
    },
    {
     "name": "stdout",
     "output_type": "stream",
     "text": [
      "1.7 s ± 0 ns per loop (mean ± std. dev. of 1 run, 1 loop each)\n"
     ]
    }
   ],
   "source": [
    "printmd(\"**Pandas with fastparquet reader**\")\n",
    "%timeit -n 1 -r 1 pd.read_parquet(parquetFile,engine='fastparquet')"
   ]
  },
  {
   "cell_type": "code",
   "execution_count": 23,
   "id": "a54a0a9f-2aaf-40a5-b6f8-4018cfa2eefa",
   "metadata": {},
   "outputs": [
    {
     "data": {
      "text/markdown": [
       "**Vaex**"
      ],
      "text/plain": [
       "<IPython.core.display.Markdown object>"
      ]
     },
     "metadata": {},
     "output_type": "display_data"
    },
    {
     "name": "stdout",
     "output_type": "stream",
     "text": [
      "3.01 s ± 0 ns per loop (mean ± std. dev. of 1 run, 1 loop each)\n"
     ]
    }
   ],
   "source": [
    "printmd(\"**Vaex**\")\n",
    "%timeit -n 1 -r 1 vx.open(parquetFile)"
   ]
  },
  {
   "cell_type": "code",
   "execution_count": 24,
   "id": "35f4943e-df5f-44e7-a4ef-c18dcc075091",
   "metadata": {},
   "outputs": [
    {
     "data": {
      "text/markdown": [
       "**Polars**"
      ],
      "text/plain": [
       "<IPython.core.display.Markdown object>"
      ]
     },
     "metadata": {},
     "output_type": "display_data"
    },
    {
     "name": "stdout",
     "output_type": "stream",
     "text": [
      "557 ms ± 43.9 ms per loop (mean ± std. dev. of 3 runs, 1 loop each)\n"
     ]
    }
   ],
   "source": [
    "printmd(\"**Polars**\")\n",
    "%timeit -n 1 -r 3 pl.read_parquet(parquetFile)"
   ]
  },
  {
   "cell_type": "code",
   "execution_count": 25,
   "id": "cc37fb6f-ce28-430c-998b-4e8bc22205e3",
   "metadata": {},
   "outputs": [
    {
     "data": {
      "text/markdown": [
       "**Polars with pyarrow**"
      ],
      "text/plain": [
       "<IPython.core.display.Markdown object>"
      ]
     },
     "metadata": {},
     "output_type": "display_data"
    },
    {
     "name": "stdout",
     "output_type": "stream",
     "text": [
      "1.12 s ± 32.6 ms per loop (mean ± std. dev. of 3 runs, 1 loop each)\n"
     ]
    }
   ],
   "source": [
    "printmd(\"**Polars with pyarrow**\")\n",
    "%timeit -n 1 -r 3 pl.read_parquet(parquetFile,use_pyarrow=True)"
   ]
  },
  {
   "cell_type": "code",
   "execution_count": 26,
   "id": "a15aa599-2d4d-4055-bc99-065cfd2a13bc",
   "metadata": {},
   "outputs": [
    {
     "data": {
      "text/markdown": [
       "**DuckDB**"
      ],
      "text/plain": [
       "<IPython.core.display.Markdown object>"
      ]
     },
     "metadata": {},
     "output_type": "display_data"
    },
    {
     "name": "stdout",
     "output_type": "stream",
     "text": [
      "3.03 s ± 0 ns per loop (mean ± std. dev. of 1 run, 1 loop each)\n"
     ]
    }
   ],
   "source": [
    "printmd(\"**DuckDB**\")\n",
    "%timeit -n 1 -r 1 con.execute(f\"SELECT * FROM '{parquetFile}';\").fetchdf()"
   ]
  },
  {
   "cell_type": "code",
   "execution_count": 28,
   "id": "570a6c4b-e855-404f-92cb-b2052dbeb8eb",
   "metadata": {},
   "outputs": [],
   "source": [
    "def groupbyPandas(df:pd.DataFrame):\n",
    "    return df.groupby(df.columns[0]).mean()\n",
    "df = pl.read_parquet(parquetFile).to_pandas()\n",
    "gbPandas = groupbyPandas(df=df)\n"
   ]
  },
  {
   "cell_type": "code",
   "execution_count": 30,
   "id": "1ef3ced0-2bde-4bc6-bd7d-5486f65017a9",
   "metadata": {},
   "outputs": [],
   "source": [
    "def groupbyPolars(df:pl.DataFrame):\n",
    "    gb = df.lazy().groupby('0').agg([pl.mean(df.columns[1:])]).sort(\"0\", reverse=False)\n",
    "    return gb.collect()\n",
    "df = pl.read_parquet(parquetFile)\n",
    "gbPolars = groupbyPolars(df=df)\n",
    "pd.testing.assert_frame_equal(gbPandas,gbPolars.to_pandas().set_index('0'))"
   ]
  },
  {
   "cell_type": "code",
   "execution_count": null,
   "id": "92d4792a-1006-4c92-889f-9fccec178ece",
   "metadata": {},
   "outputs": [],
   "source": [
    "df.head()"
   ]
  },
  {
   "cell_type": "markdown",
   "id": "e1c30fc2-cd42-4093-8cdb-2b506d596893",
   "metadata": {},
   "source": [
    "## Simple groupby operation"
   ]
  },
  {
   "cell_type": "code",
   "execution_count": 31,
   "id": "e98c72a3-f6e4-4418-83a2-6670275ccd3c",
   "metadata": {},
   "outputs": [
    {
     "data": {
      "text/markdown": [
       "**Pandas**"
      ],
      "text/plain": [
       "<IPython.core.display.Markdown object>"
      ]
     },
     "metadata": {},
     "output_type": "display_data"
    },
    {
     "name": "stdout",
     "output_type": "stream",
     "text": [
      "11.1 s ± 0 ns per loop (mean ± std. dev. of 1 run, 1 loop each)\n"
     ]
    }
   ],
   "source": [
    "df = pl.read_parquet(parquetFile).to_pandas()\n",
    "printmd('**Pandas**')\n",
    "%timeit -n 1 -r 1 groupbyPandas(df=df)"
   ]
  },
  {
   "cell_type": "code",
   "execution_count": 32,
   "id": "4297b798-9f7b-414a-9347-36348c80a53f",
   "metadata": {},
   "outputs": [
    {
     "data": {
      "text/markdown": [
       "**Polars**"
      ],
      "text/plain": [
       "<IPython.core.display.Markdown object>"
      ]
     },
     "metadata": {},
     "output_type": "display_data"
    },
    {
     "name": "stdout",
     "output_type": "stream",
     "text": [
      "3.2 s ± 0 ns per loop (mean ± std. dev. of 1 run, 1 loop each)\n"
     ]
    }
   ],
   "source": [
    "df = pl.read_parquet(parquetFile)\n",
    "printmd('**Polars**')\n",
    "%timeit -n 1 -r 1 groupbyPolars(df=df)"
   ]
  },
  {
   "cell_type": "code",
   "execution_count": null,
   "id": "8b68638a-f402-4ece-9ac4-030a640f6eeb",
   "metadata": {},
   "outputs": [],
   "source": []
  }
 ],
 "metadata": {
  "kernelspec": {
   "display_name": "Python 3 (ipykernel)",
   "language": "python",
   "name": "python3"
  },
  "language_info": {
   "codemirror_mode": {
    "name": "ipython",
    "version": 3
   },
   "file_extension": ".py",
   "mimetype": "text/x-python",
   "name": "python",
   "nbconvert_exporter": "python",
   "pygments_lexer": "ipython3",
   "version": "3.9.1"
  }
 },
 "nbformat": 4,
 "nbformat_minor": 5
}
