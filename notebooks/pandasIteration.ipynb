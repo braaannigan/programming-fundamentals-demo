{
 "cells": [
  {
   "cell_type": "markdown",
   "id": "fe624a69-099a-442d-a1e5-950dac9a9e8c",
   "metadata": {},
   "source": [
    "# Looping through pandas dataframes\n",
    "\n",
    "There are a variety of ways to loop through pandas dataframes - however they can result in vastly different performance!"
   ]
  },
  {
   "cell_type": "code",
   "execution_count": 3,
   "id": "1b9a1d37-1b88-46e8-837b-a8bd6d7e998f",
   "metadata": {},
   "outputs": [],
   "source": [
    "from pathlib import Path\n",
    "\n",
    "import numpy as np\n",
    "import pandas as pd\n",
    "\n",
    "from IPython.display import Markdown, display\n"
   ]
  },
  {
   "cell_type": "code",
   "execution_count": 4,
   "id": "2d2fb3f3-8611-4c92-b069-604d8db3dee9",
   "metadata": {},
   "outputs": [],
   "source": [
    "def printmd(string):\n",
    "    display(Markdown(string))"
   ]
  },
  {
   "cell_type": "code",
   "execution_count": 5,
   "id": "ba5261aa-aec9-47e2-89e5-e7b27f73c289",
   "metadata": {},
   "outputs": [],
   "source": [
    "dataPath = Path(\"../data/raw/\")\n",
    "interimDataPath = Path(\"../data/interim/\")\n",
    "\n",
    "def loadData(duplicateN:int=1):\n",
    "    df = pd.read_csv(dataPath / \"atlanticInterpolated.csv\")\n",
    "    z = df.z.values\n",
    "    dropColumns = []\n",
    "    for col in df.columns:\n",
    "        if df.loc[30, col] > df.loc[0, col] - 0.1:\n",
    "            dropColumns.append(col)\n",
    "    df = df.drop(columns=dropColumns)\n",
    "    # For this example we will concatenate in rows instead of columns to generate a long dataframe\n",
    "    df = pd.concat([df for _ in range(duplicateN)], axis=0)\n",
    "    temps = df.iloc[:, 1:].values\n",
    "    surfaceTemps = temps[:2, :].mean(axis=0)\n",
    "    return df, temps, z, surfaceTemps"
   ]
  },
  {
   "cell_type": "code",
   "execution_count": 6,
   "id": "9c705847-4e56-4cc6-8733-4dd37a990e27",
   "metadata": {},
   "outputs": [
    {
     "name": "stdout",
     "output_type": "stream",
     "text": [
      "Load data\n",
      "Data loaded\n"
     ]
    }
   ],
   "source": [
    "print(\"Load data\")\n",
    "df, temps, z, surfaceTemps = loadData(duplicateN=10)\n",
    "# Reset the index to be unique\n",
    "df.index = pd.RangeIndex(start=0, stop=len(df))\n",
    "print(\"Data loaded\")"
   ]
  },
  {
   "cell_type": "markdown",
   "id": "4b8c2b92-305d-4b06-8921-ec308f0e11ba",
   "metadata": {},
   "source": [
    "# Loop using `iloc` to access rows by integer"
   ]
  },
  {
   "cell_type": "code",
   "execution_count": 7,
   "id": "5093a4aa-7471-44c6-9321-fd1492ccca30",
   "metadata": {},
   "outputs": [],
   "source": [
    "def iforLoop(df):\n",
    "    mld = []\n",
    "    col = '0:June:2020'\n",
    "    for idx in range(df.shape[0]):\n",
    "        value = df.iloc[idx].loc[col]\n",
    "        if value > surfaceTemps[0]-0.1:\n",
    "            mld.append(True)\n",
    "        else:\n",
    "            mld.append(False)\n",
    "    df['mld'] = mld\n",
    "    return df.loc[:,['z',col,'mld']]"
   ]
  },
  {
   "cell_type": "markdown",
   "id": "965bcb53-90e4-4eec-a278-0a5b224305b1",
   "metadata": {},
   "source": [
    "# Loop using `df.itertuples`"
   ]
  },
  {
   "cell_type": "code",
   "execution_count": 8,
   "id": "e8dbcb60-64f5-4c3c-85cb-b0a470d1ce3b",
   "metadata": {},
   "outputs": [],
   "source": [
    "def itertuplesLoop(df):\n",
    "    mld = []\n",
    "    col = '0:June:2020'\n",
    "    for row in df.itertuples(index=False):\n",
    "        value = row[df.columns.get_loc(col)]\n",
    "        if value > surfaceTemps[0]-0.1:\n",
    "            mld.append(True)\n",
    "        else:\n",
    "            mld.append(False)\n",
    "    df['mld'] = mld\n",
    "    return df.loc[:,['z',col,'mld']]"
   ]
  },
  {
   "cell_type": "markdown",
   "id": "9bb19eb5-3d43-4a56-91b4-50a03888840d",
   "metadata": {},
   "source": [
    "# Loop using the `index`"
   ]
  },
  {
   "cell_type": "code",
   "execution_count": 9,
   "id": "412ea048-413e-48b6-b4f0-0e3994b58f38",
   "metadata": {},
   "outputs": [],
   "source": [
    "def forLoop(df):\n",
    "    mld = []\n",
    "    col = '0:June:2020'\n",
    "    for idx in df.index:\n",
    "        value = df.loc[idx,col]\n",
    "        if value > surfaceTemps[0]-0.1:\n",
    "            mld.append(True)\n",
    "        else:\n",
    "            mld.append(False)\n",
    "    df['mld'] = mld\n",
    "    return df.loc[:,['z',col,'mld']]\n"
   ]
  },
  {
   "cell_type": "markdown",
   "id": "b091421e-7a5a-4018-865d-58cb0133f38c",
   "metadata": {},
   "source": [
    "# Loop using `apply`"
   ]
  },
  {
   "cell_type": "code",
   "execution_count": 10,
   "id": "9289b692-1932-4460-b06b-6c39f08fef48",
   "metadata": {},
   "outputs": [],
   "source": [
    "def rowFunc(row,col):\n",
    "    value = row.loc[col]\n",
    "    if value > surfaceTemps[0]-0.1:\n",
    "        return True\n",
    "    else:\n",
    "        return False\n",
    "\n",
    "def applyFunc(df):\n",
    "    mld = []\n",
    "    col = '0:June:2020'\n",
    "    df['mld'] = df.loc[:,col].apply(lambda x: x > surfaceTemps[0]-0.1)\n",
    "    return df.loc[:,['z',col,'mld']]\n"
   ]
  },
  {
   "cell_type": "code",
   "execution_count": 19,
   "id": "e10f299f-501f-43f7-8bac-468f7194ab05",
   "metadata": {},
   "outputs": [],
   "source": [
    "### Numba loop where we run on the numpy array and compile the function"
   ]
  },
  {
   "cell_type": "code",
   "execution_count": 21,
   "id": "425ecd01-75c6-45c9-baaf-ecec708df3b5",
   "metadata": {},
   "outputs": [],
   "source": [
    "import numba\n",
    "@numba.njit()\n",
    "def rowFuncNumba(values,surfaceTemp):\n",
    "    mld = []\n",
    "    for idx in numba.prange(len(values)):\n",
    "        value = values[idx]\n",
    "        if value > surfaceTemp-0.1:\n",
    "            mld.append(True)\n",
    "        else:\n",
    "            mld.append(False)\n",
    "    return mld\n",
    "\n",
    "def forLoopNumba(df):\n",
    "    col = '0:June:2020'\n",
    "    values = df.loc[:,col].values  \n",
    "    surfaceTemp = surfaceTemps[0]\n",
    "    mld = rowFuncNumba(values=values,surfaceTemp=surfaceTemp)\n",
    "    df['mld'] = mld\n",
    "    return df.loc[:,['z',col,'mld']]\n",
    "# forLoopNumba(df).head(2)"
   ]
  },
  {
   "cell_type": "markdown",
   "id": "0133f2d4-ab4a-4a78-9785-a192b951e45f",
   "metadata": {},
   "source": [
    "# Compare results"
   ]
  },
  {
   "cell_type": "code",
   "execution_count": 18,
   "id": "fa23f9f2-0fdc-48df-ab75-dd2bdd2e3c7e",
   "metadata": {},
   "outputs": [
    {
     "data": {
      "text/markdown": [
       "**iloc loop**"
      ],
      "text/plain": [
       "<IPython.core.display.Markdown object>"
      ]
     },
     "metadata": {},
     "output_type": "display_data"
    },
    {
     "name": "stdout",
     "output_type": "stream",
     "text": [
      "1.96 s ± 35.8 ms per loop (mean ± std. dev. of 3 runs, 1 loop each)\n"
     ]
    },
    {
     "data": {
      "text/markdown": [
       "**itertuples loop**"
      ],
      "text/plain": [
       "<IPython.core.display.Markdown object>"
      ]
     },
     "metadata": {},
     "output_type": "display_data"
    },
    {
     "name": "stdout",
     "output_type": "stream",
     "text": [
      "632 ms ± 17.4 ms per loop (mean ± std. dev. of 3 runs, 1 loop each)\n"
     ]
    },
    {
     "data": {
      "text/markdown": [
       "**loc loop**"
      ],
      "text/plain": [
       "<IPython.core.display.Markdown object>"
      ]
     },
     "metadata": {},
     "output_type": "display_data"
    },
    {
     "name": "stdout",
     "output_type": "stream",
     "text": [
      "20.7 ms ± 869 µs per loop (mean ± std. dev. of 3 runs, 1 loop each)\n"
     ]
    },
    {
     "data": {
      "text/markdown": [
       "**apply loop**"
      ],
      "text/plain": [
       "<IPython.core.display.Markdown object>"
      ]
     },
     "metadata": {},
     "output_type": "display_data"
    },
    {
     "name": "stdout",
     "output_type": "stream",
     "text": [
      "2.93 ms ± 365 µs per loop (mean ± std. dev. of 3 runs, 1 loop each)\n"
     ]
    },
    {
     "data": {
      "text/markdown": [
       "**for loop Numba**"
      ],
      "text/plain": [
       "<IPython.core.display.Markdown object>"
      ]
     },
     "metadata": {},
     "output_type": "display_data"
    },
    {
     "name": "stdout",
     "output_type": "stream",
     "text": [
      "1.12 ms ± 142 µs per loop (mean ± std. dev. of 3 runs, 1 loop each)\n"
     ]
    }
   ],
   "source": [
    "printmd(\"**iloc loop**\")\n",
    "%timeit -n 1 -r 3 iforLoop(df)\n",
    "printmd(\"**itertuples loop**\")\n",
    "%timeit -n 1 -r 3 itertuplesLoop(df)\n",
    "printmd(\"**loc loop**\")\n",
    "%timeit -n 1 -r 3 forLoop(df)\n",
    "printmd(\"**apply loop**\")\n",
    "%timeit -n 1 -r 3 applyFunc(df)\n",
    "printmd(\"**for loop Numba**\")\n",
    "%timeit -n 1 -r 3 forLoopNumba(df)"
   ]
  },
  {
   "cell_type": "markdown",
   "id": "144b6e39-42e2-4066-b0bd-0d3f30ff1eb6",
   "metadata": {},
   "source": [
    "## A factor of 1000x difference between these methods!"
   ]
  },
  {
   "cell_type": "code",
   "execution_count": null,
   "id": "d29c9fd7-f072-4214-a363-22a4976d3faf",
   "metadata": {},
   "outputs": [],
   "source": []
  }
 ],
 "metadata": {
  "kernelspec": {
   "display_name": "demo-env",
   "language": "python",
   "name": "demo-env"
  },
  "language_info": {
   "codemirror_mode": {
    "name": "ipython",
    "version": 3
   },
   "file_extension": ".py",
   "mimetype": "text/x-python",
   "name": "python",
   "nbconvert_exporter": "python",
   "pygments_lexer": "ipython3",
   "version": "3.9.1"
  }
 },
 "nbformat": 4,
 "nbformat_minor": 5
}
