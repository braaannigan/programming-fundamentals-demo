{
 "cells": [
  {
   "cell_type": "markdown",
   "id": "fb217bf3-5c7c-4a6a-8208-24bafd945c93",
   "metadata": {},
   "source": [
    "# Accelerating numpy with NumExpr\n",
    "\n",
    "If the bottleneck in your code are operations on large arrays NumExpr may be a straightforward way to accelerate them.\n",
    "\n",
    "We begin with some imports..."
   ]
  },
  {
   "cell_type": "code",
   "execution_count": 105,
   "id": "1c169ed6-ef54-4915-820c-cbb6d3e3cc24",
   "metadata": {},
   "outputs": [],
   "source": [
    "from pathlib import Path\n",
    "\n",
    "import pandas as pd\n",
    "import numpy as np\n",
    "import numexpr as ne\n",
    "import dask.array as da\n",
    "\n",
    "from IPython.display import Markdown, display"
   ]
  },
  {
   "cell_type": "markdown",
   "id": "16f63ae6-b8c4-4cb9-a47b-35db6c098643",
   "metadata": {},
   "source": [
    "Create a print function that lets us use markdown formatting"
   ]
  },
  {
   "cell_type": "code",
   "execution_count": 106,
   "id": "7ff95ba1-8f38-4e02-bf27-b1d6614c7012",
   "metadata": {},
   "outputs": [],
   "source": [
    "def printmd(string):\n",
    "    display(Markdown(string))"
   ]
  },
  {
   "cell_type": "markdown",
   "id": "c9d7bdaa-9c01-4014-a035-7027469dd909",
   "metadata": {},
   "source": [
    "# Long array computation\n",
    "\n",
    "This time we look at an array computation with many components. This is a modified version of a real calculation for the speed of sound in water set out here: http://resource.npl.co.uk/acoustics/techguides/soundseawater/underlying-phys.html#up_mackenzie \n",
    "\n",
    "We start by defining a single constant and creating random temperature and pressure arrays"
   ]
  },
  {
   "cell_type": "code",
   "execution_count": 114,
   "id": "4146505c-637b-40be-a86a-0e82ed27ab3d",
   "metadata": {},
   "outputs": [],
   "source": [
    "A00 = 1.0\n",
    "np.random.seed(3)\n",
    "def generateArray(z:np.ndarray,N=10):\n",
    "    T = np.random.standard_normal((len(z),N))\n",
    "    return T"
   ]
  },
  {
   "cell_type": "markdown",
   "id": "7bcd8085-04de-49e2-bb6f-4f9a6bd2d6b0",
   "metadata": {},
   "source": [
    "Now we create a function for each of the Numpy and NumExpr versions"
   ]
  },
  {
   "cell_type": "code",
   "execution_count": 115,
   "id": "88d20546-98f6-4380-8f55-ca61da7ee358",
   "metadata": {},
   "outputs": [],
   "source": [
    "def getATPNumpy(T,P):\n",
    "    A00 = 1\n",
    "    A_t_p = ((A00 + (A00*T) + (A00*(T**2)) + (A00*(T**3)) + (A00*(T**4)))    +\n",
    "             (A00 + (A00*T) + (A00*(T**2)) + (A00*(T**3)) + (A00*(T**4)))*P + \n",
    "             (A00 + (A00*T) + (A00*(T**2)) + (A00*(T**3)))*(P**2) + \n",
    "             (A00 + (A00*T) + (A00*(T**2)))*(P**3))\n",
    "    return A_t_p\n",
    "\n",
    "def getATPNumExpr(T,P):\n",
    "    A00 = 1\n",
    "    A_t_p = ne.evaluate(\"((A00 + (A00*T) + (A00*(T**2)) + (A00*(T**3)) + (A00*(T**4))) +(A00 + (A00*T) + (A00*(T**2)) + (A00*(T**3)) + (A00*(T**4)))*P + (A00 + (A00*T) + (A00*(T**2)) + (A00*(T**3)))*(P**2) +(A00 + (A00*T) + (A00*(T**2)))*(P**3))\")\n",
    "    return A_t_p"
   ]
  },
  {
   "cell_type": "code",
   "execution_count": 116,
   "id": "26103ed8-4da7-480d-b096-c90dd3f56a39",
   "metadata": {},
   "outputs": [],
   "source": [
    "T = generateArray(z=z,N=1000)"
   ]
  },
  {
   "cell_type": "markdown",
   "id": "29ebabdc-3e97-48a0-95c7-66884702adb2",
   "metadata": {},
   "source": [
    "We test to see if the output arrays are equal"
   ]
  },
  {
   "cell_type": "code",
   "execution_count": 117,
   "id": "394c527b-bb65-41bd-af98-2bd188d946dc",
   "metadata": {},
   "outputs": [
    {
     "ename": "AssertionError",
     "evalue": "\nArrays are not equal\n\nMismatched elements: 343 / 199000 (0.172%)\nMax absolute difference: 2.38418579e-07\nMax relative difference: 3.91785661e-16\n x: array([[3.548403e+02, 6.630850e+01, 4.424440e+01, ..., 5.934262e+01,\n        2.727742e+02, 2.860142e+01],\n       [2.682958e+02, 9.579535e+02, 8.703086e+02, ..., 1.998691e+02,...\n y: array([[3.548403e+02, 6.630850e+01, 4.424440e+01, ..., 5.934262e+01,\n        2.727742e+02, 2.860142e+01],\n       [2.682958e+02, 9.579535e+02, 8.703086e+02, ..., 1.998691e+02,...",
     "output_type": "error",
     "traceback": [
      "\u001b[0;31m---------------------------------------------------------------------------\u001b[0m",
      "\u001b[0;31mAssertionError\u001b[0m                            Traceback (most recent call last)",
      "Input \u001b[0;32mIn [117]\u001b[0m, in \u001b[0;36m<module>\u001b[0;34m\u001b[0m\n\u001b[0;32m----> 1\u001b[0m \u001b[43mnp\u001b[49m\u001b[38;5;241;43m.\u001b[39;49m\u001b[43mtesting\u001b[49m\u001b[38;5;241;43m.\u001b[39;49m\u001b[43massert_array_equal\u001b[49m\u001b[43m(\u001b[49m\u001b[43mgetATPNumExpr\u001b[49m\u001b[43m(\u001b[49m\u001b[43mT\u001b[49m\u001b[38;5;241;43m=\u001b[39;49m\u001b[43mT\u001b[49m\u001b[43m,\u001b[49m\u001b[43mP\u001b[49m\u001b[38;5;241;43m=\u001b[39;49m\u001b[38;5;241;43m-\u001b[39;49m\u001b[43mz\u001b[49m\u001b[43m[\u001b[49m\u001b[43m:\u001b[49m\u001b[43m,\u001b[49m\u001b[43mnp\u001b[49m\u001b[38;5;241;43m.\u001b[39;49m\u001b[43mnewaxis\u001b[49m\u001b[43m]\u001b[49m\u001b[43m)\u001b[49m\u001b[43m,\u001b[49m\u001b[43mgetATPNumpy\u001b[49m\u001b[43m(\u001b[49m\u001b[43mT\u001b[49m\u001b[38;5;241;43m=\u001b[39;49m\u001b[43mT\u001b[49m\u001b[43m,\u001b[49m\u001b[43mP\u001b[49m\u001b[38;5;241;43m=\u001b[39;49m\u001b[38;5;241;43m-\u001b[39;49m\u001b[43mz\u001b[49m\u001b[43m[\u001b[49m\u001b[43m:\u001b[49m\u001b[43m,\u001b[49m\u001b[43mnp\u001b[49m\u001b[38;5;241;43m.\u001b[39;49m\u001b[43mnewaxis\u001b[49m\u001b[43m]\u001b[49m\u001b[43m)\u001b[49m\u001b[43m)\u001b[49m\n",
      "    \u001b[0;31m[... skipping hidden 1 frame]\u001b[0m\n",
      "File \u001b[0;32m~/playModels/programming-fundamentals-demo/demo-env/lib/python3.9/site-packages/numpy/testing/_private/utils.py:844\u001b[0m, in \u001b[0;36massert_array_compare\u001b[0;34m(comparison, x, y, err_msg, verbose, header, precision, equal_nan, equal_inf)\u001b[0m\n\u001b[1;32m    840\u001b[0m         err_msg \u001b[38;5;241m+\u001b[39m\u001b[38;5;241m=\u001b[39m \u001b[38;5;124m'\u001b[39m\u001b[38;5;130;01m\\n\u001b[39;00m\u001b[38;5;124m'\u001b[39m \u001b[38;5;241m+\u001b[39m \u001b[38;5;124m'\u001b[39m\u001b[38;5;130;01m\\n\u001b[39;00m\u001b[38;5;124m'\u001b[39m\u001b[38;5;241m.\u001b[39mjoin(remarks)\n\u001b[1;32m    841\u001b[0m         msg \u001b[38;5;241m=\u001b[39m build_err_msg([ox, oy], err_msg,\n\u001b[1;32m    842\u001b[0m                             verbose\u001b[38;5;241m=\u001b[39mverbose, header\u001b[38;5;241m=\u001b[39mheader,\n\u001b[1;32m    843\u001b[0m                             names\u001b[38;5;241m=\u001b[39m(\u001b[38;5;124m'\u001b[39m\u001b[38;5;124mx\u001b[39m\u001b[38;5;124m'\u001b[39m, \u001b[38;5;124m'\u001b[39m\u001b[38;5;124my\u001b[39m\u001b[38;5;124m'\u001b[39m), precision\u001b[38;5;241m=\u001b[39mprecision)\n\u001b[0;32m--> 844\u001b[0m         \u001b[38;5;28;01mraise\u001b[39;00m \u001b[38;5;167;01mAssertionError\u001b[39;00m(msg)\n\u001b[1;32m    845\u001b[0m \u001b[38;5;28;01mexcept\u001b[39;00m \u001b[38;5;167;01mValueError\u001b[39;00m:\n\u001b[1;32m    846\u001b[0m     \u001b[38;5;28;01mimport\u001b[39;00m \u001b[38;5;21;01mtraceback\u001b[39;00m\n",
      "\u001b[0;31mAssertionError\u001b[0m: \nArrays are not equal\n\nMismatched elements: 343 / 199000 (0.172%)\nMax absolute difference: 2.38418579e-07\nMax relative difference: 3.91785661e-16\n x: array([[3.548403e+02, 6.630850e+01, 4.424440e+01, ..., 5.934262e+01,\n        2.727742e+02, 2.860142e+01],\n       [2.682958e+02, 9.579535e+02, 8.703086e+02, ..., 1.998691e+02,...\n y: array([[3.548403e+02, 6.630850e+01, 4.424440e+01, ..., 5.934262e+01,\n        2.727742e+02, 2.860142e+01],\n       [2.682958e+02, 9.579535e+02, 8.703086e+02, ..., 1.998691e+02,..."
     ]
    }
   ],
   "source": [
    "np.testing.assert_array_equal(getATPNumExpr(T=T,P=-z[:,np.newaxis]),getATPNumpy(T=T,P=-z[:,np.newaxis]))"
   ]
  },
  {
   "cell_type": "markdown",
   "id": "faffd4ac-6d0c-4ee1-a174-9fbb1305e4d9",
   "metadata": {},
   "source": [
    "No - it turns out that we have differences up to 6e-8. You have to decide if this is important for your use case.\n",
    "\n",
    "Now we compare the timings"
   ]
  },
  {
   "cell_type": "code",
   "execution_count": 124,
   "id": "42ca764e-f9ea-49e2-8461-0b4076fb1024",
   "metadata": {},
   "outputs": [],
   "source": [
    "T = generateArray(z=z,N=100000)"
   ]
  },
  {
   "cell_type": "code",
   "execution_count": 125,
   "id": "98ac3c02-59c4-48bf-94b2-99a3747a4d09",
   "metadata": {},
   "outputs": [
    {
     "data": {
      "text/markdown": [
       "**Numpy version**"
      ],
      "text/plain": [
       "<IPython.core.display.Markdown object>"
      ]
     },
     "metadata": {},
     "output_type": "display_data"
    },
    {
     "name": "stdout",
     "output_type": "stream",
     "text": [
      "4.64 s ± 0 ns per loop (mean ± std. dev. of 1 run, 1 loop each)\n"
     ]
    },
    {
     "data": {
      "text/markdown": [
       "**NumExpr version**"
      ],
      "text/plain": [
       "<IPython.core.display.Markdown object>"
      ]
     },
     "metadata": {},
     "output_type": "display_data"
    },
    {
     "name": "stdout",
     "output_type": "stream",
     "text": [
      "108 ms ± 0 ns per loop (mean ± std. dev. of 1 run, 1 loop each)\n"
     ]
    }
   ],
   "source": [
    "printmd(\"**Numpy version**\")\n",
    "%timeit -n 1 -r 1 getATPNumpy(T=T,P=-z[:,np.newaxis])\n",
    "printmd(\"**NumExpr version**\")\n",
    "%timeit -n 1 -r 1 getATPNumExpr(T=T,P=-z[:,np.newaxis])"
   ]
  },
  {
   "cell_type": "markdown",
   "id": "440ab07b-1c17-406f-bfec-662a5020f445",
   "metadata": {},
   "source": [
    "## Dask comparison\n",
    "We can also compare these results with using a dask array"
   ]
  },
  {
   "cell_type": "code",
   "execution_count": 120,
   "id": "1e245e5e-08f0-472d-9b75-349de1976ff9",
   "metadata": {},
   "outputs": [
    {
     "data": {
      "text/html": [
       "<table>\n",
       "    <tr>\n",
       "        <td>\n",
       "            <table>\n",
       "                <thead>\n",
       "                    <tr>\n",
       "                        <td> </td>\n",
       "                        <th> Array </th>\n",
       "                        <th> Chunk </th>\n",
       "                    </tr>\n",
       "                </thead>\n",
       "                <tbody>\n",
       "                    \n",
       "                    <tr>\n",
       "                        <th> Bytes </th>\n",
       "                        <td> 15.18 MiB </td>\n",
       "                        <td> 15.18 MiB </td>\n",
       "                    </tr>\n",
       "                    \n",
       "                    <tr>\n",
       "                        <th> Shape </th>\n",
       "                        <td> (199, 10000) </td>\n",
       "                        <td> (199, 10000) </td>\n",
       "                    </tr>\n",
       "                    <tr>\n",
       "                        <th> Count </th>\n",
       "                        <td> 1 Tasks </td>\n",
       "                        <td> 1 Chunks </td>\n",
       "                    </tr>\n",
       "                    <tr>\n",
       "                    <th> Type </th>\n",
       "                    <td> float64 </td>\n",
       "                    <td> numpy.ndarray </td>\n",
       "                    </tr>\n",
       "                </tbody>\n",
       "            </table>\n",
       "        </td>\n",
       "        <td>\n",
       "        <svg width=\"170\" height=\"79\" style=\"stroke:rgb(0,0,0);stroke-width:1\" >\n",
       "\n",
       "  <!-- Horizontal lines -->\n",
       "  <line x1=\"0\" y1=\"0\" x2=\"120\" y2=\"0\" style=\"stroke-width:2\" />\n",
       "  <line x1=\"0\" y1=\"29\" x2=\"120\" y2=\"29\" style=\"stroke-width:2\" />\n",
       "\n",
       "  <!-- Vertical lines -->\n",
       "  <line x1=\"0\" y1=\"0\" x2=\"0\" y2=\"29\" style=\"stroke-width:2\" />\n",
       "  <line x1=\"120\" y1=\"0\" x2=\"120\" y2=\"29\" style=\"stroke-width:2\" />\n",
       "\n",
       "  <!-- Colored Rectangle -->\n",
       "  <polygon points=\"0.0,0.0 120.0,0.0 120.0,29.00243420523458 0.0,29.00243420523458\" style=\"fill:#ECB172A0;stroke-width:0\"/>\n",
       "\n",
       "  <!-- Text -->\n",
       "  <text x=\"60.000000\" y=\"49.002434\" font-size=\"1.0rem\" font-weight=\"100\" text-anchor=\"middle\" >10000</text>\n",
       "  <text x=\"140.000000\" y=\"14.501217\" font-size=\"1.0rem\" font-weight=\"100\" text-anchor=\"middle\" transform=\"rotate(-90,140.000000,14.501217)\">199</text>\n",
       "</svg>\n",
       "        </td>\n",
       "    </tr>\n",
       "</table>"
      ],
      "text/plain": [
       "dask.array<array, shape=(199, 10000), dtype=float64, chunksize=(199, 10000), chunktype=numpy.ndarray>"
      ]
     },
     "execution_count": 120,
     "metadata": {},
     "output_type": "execute_result"
    }
   ],
   "source": [
    "daskT = da.from_array(T)\n",
    "daskT\n",
    "# np.testing.assert_array_equal(getATPNumpy(T=T,P=-z[:,np.newaxis]),getATPNumpy(T=daskT,P=-z[:,np.newaxis]).compute())"
   ]
  },
  {
   "cell_type": "code",
   "execution_count": 121,
   "id": "15f5b4e1-a0de-4b94-8496-000bc2c88c5d",
   "metadata": {},
   "outputs": [
    {
     "name": "stdout",
     "output_type": "stream",
     "text": [
      "360 ms ± 0 ns per loop (mean ± std. dev. of 1 run, 1 loop each)\n"
     ]
    }
   ],
   "source": [
    "%timeit -n 1 -r 1 getATPNumpy(T=dT,P=-z[:,np.newaxis]).compute()"
   ]
  },
  {
   "cell_type": "markdown",
   "id": "e29c0338-2211-4986-93b8-c76c853ce0f2",
   "metadata": {},
   "source": [
    "# Activity\n",
    "1. Vary the array size by a few orders of magnitude to see how it affects the relative performance\n",
    "2. does it make a difference to relative performacne if you use 32-bit floats instead of 64-bit floats?"
   ]
  },
  {
   "cell_type": "code",
   "execution_count": null,
   "id": "9462680b-f504-474e-92d9-32ce8d6b2bd1",
   "metadata": {},
   "outputs": [],
   "source": []
  }
 ],
 "metadata": {
  "kernelspec": {
   "display_name": "demo-env",
   "language": "python",
   "name": "demo-env"
  },
  "language_info": {
   "codemirror_mode": {
    "name": "ipython",
    "version": 3
   },
   "file_extension": ".py",
   "mimetype": "text/x-python",
   "name": "python",
   "nbconvert_exporter": "python",
   "pygments_lexer": "ipython3",
   "version": "3.9.1"
  }
 },
 "nbformat": 4,
 "nbformat_minor": 5
}
