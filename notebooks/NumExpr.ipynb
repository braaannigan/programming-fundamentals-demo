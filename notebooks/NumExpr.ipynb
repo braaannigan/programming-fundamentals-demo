{
 "cells": [
  {
   "cell_type": "code",
   "execution_count": 3,
   "id": "4401e3d1-25d7-4100-b9ce-5bbe3a8e8618",
   "metadata": {},
   "outputs": [],
   "source": [
    "import sys\n",
    "from pathlib import Path\n",
    "\n",
    "currentWorkingDirectory = Path('')\n",
    "projectRootDirectory = currentWorkingDirectory.parent\n",
    "sys.path.append(projectRootDirectory.as_posix())"
   ]
  },
  {
   "cell_type": "code",
   "execution_count": 7,
   "id": "1c169ed6-ef54-4915-820c-cbb6d3e3cc24",
   "metadata": {},
   "outputs": [],
   "source": [
    "import pandas as pd\n",
    "import numpy as np\n",
    "import numexpr as ne\n",
    "\n",
    "from IPython.display import Markdown, display"
   ]
  },
  {
   "cell_type": "code",
   "execution_count": 18,
   "id": "7ff95ba1-8f38-4e02-bf27-b1d6614c7012",
   "metadata": {},
   "outputs": [],
   "source": [
    "def printmd(string):\n",
    "    display(Markdown(string))"
   ]
  },
  {
   "cell_type": "code",
   "execution_count": 8,
   "id": "15eee0b9-8671-4709-b750-b551f4941003",
   "metadata": {},
   "outputs": [],
   "source": [
    "dataPath = Path(\"../data/raw/\")\n",
    "interimDataPath = Path(\"../data/interim/\")\n",
    "\n",
    "def loadData(duplicateN:int=1):\n",
    "    df = pd.read_csv(dataPath / \"atlanticInterpolated.csv\")\n",
    "    z = df.z.values\n",
    "    dropColumns = []\n",
    "    for col in df.columns:\n",
    "        if df.loc[30, col] > df.loc[0, col] - 0.1:\n",
    "            dropColumns.append(col)\n",
    "    df = df.drop(columns=dropColumns)\n",
    "    df = pd.concat([df for _ in range(duplicateN)], axis=1)\n",
    "    temps = df.iloc[:, 1:].values\n",
    "    surfaceTemps = temps[:2, :].mean(axis=0)\n",
    "    return df, temps, z, surfaceTemps"
   ]
  },
  {
   "cell_type": "code",
   "execution_count": 14,
   "id": "ea370f60-d949-4ba9-83b1-024119afa5a3",
   "metadata": {},
   "outputs": [],
   "source": [
    "df, temps, z, surfaceTemps = loadData(duplicateN=5)"
   ]
  },
  {
   "cell_type": "code",
   "execution_count": 15,
   "id": "b4ca79a5-8ca1-4993-a2a6-17c1c84e51b0",
   "metadata": {},
   "outputs": [],
   "source": [
    "thresholdTemperatureDifference = 0.1"
   ]
  },
  {
   "cell_type": "code",
   "execution_count": 40,
   "id": "06f8577d-985e-4a05-bbf4-1c7b23766aa5",
   "metadata": {},
   "outputs": [],
   "source": [
    "np.testing.assert_array_equal((temps < (surfaceTemps - thresholdTemperatureDifference)).nonzero(),ne.evaluate(\"temps < (surfaceTemps - thresholdTemperatureDifference)\").nonzero())"
   ]
  },
  {
   "cell_type": "code",
   "execution_count": 16,
   "id": "ffe7508d-611f-4a09-a20d-48e96e53c8b5",
   "metadata": {},
   "outputs": [
    {
     "name": "stdout",
     "output_type": "stream",
     "text": [
      "82.3 ms ± 0 ns per loop (mean ± std. dev. of 1 run, 1 loop each)\n"
     ]
    }
   ],
   "source": [
    "%timeit -n 1 -r 1 (temps < (surfaceTemps - thresholdTemperatureDifference)).nonzero()"
   ]
  },
  {
   "cell_type": "code",
   "execution_count": 17,
   "id": "44470e87-3d95-4a45-83e8-29d338f0aa70",
   "metadata": {},
   "outputs": [
    {
     "name": "stdout",
     "output_type": "stream",
     "text": [
      "27.6 ms ± 0 ns per loop (mean ± std. dev. of 1 run, 1 loop each)\n"
     ]
    }
   ],
   "source": [
    "%timeit -n 1 -r 1 ne.evaluate(\"temps < (surfaceTemps - thresholdTemperatureDifference)\").nonzero()"
   ]
  },
  {
   "cell_type": "code",
   "execution_count": null,
   "id": "4146505c-637b-40be-a86a-0e82ed27ab3d",
   "metadata": {},
   "outputs": [],
   "source": [
    "A00 = 1.0\n",
    "N = 1000\n",
    "T = np.random.standard_normal((N,N))\n",
    "P = np.ones_like(T)"
   ]
  },
  {
   "cell_type": "code",
   "execution_count": 36,
   "id": "749d2a67-d677-47ea-8358-0200042b4243",
   "metadata": {},
   "outputs": [
    {
     "ename": "AssertionError",
     "evalue": "\nArrays are not equal\n\nMismatched elements: 54340 / 2470386 (2.2%)\nMax absolute difference: 3.81469727e-06\nMax relative difference: 4.78917858e-16\n x: array([[3.006015e+05, 2.283467e+05, 2.591662e+05, ..., 2.520059e+05,\n        2.127871e+05, 1.984621e+05],\n       [6.532138e+05, 5.049143e+05, 5.683931e+05, ..., 5.536772e+05,...\n y: array([[3.006015e+05, 2.283467e+05, 2.591662e+05, ..., 2.520059e+05,\n        2.127871e+05, 1.984621e+05],\n       [6.532138e+05, 5.049143e+05, 5.683931e+05, ..., 5.536772e+05,...",
     "output_type": "error",
     "traceback": [
      "\u001b[0;31m---------------------------------------------------------------------------\u001b[0m",
      "\u001b[0;31mAssertionError\u001b[0m                            Traceback (most recent call last)",
      "Input \u001b[0;32mIn [36]\u001b[0m, in \u001b[0;36m<module>\u001b[0;34m\u001b[0m\n\u001b[1;32m     10\u001b[0m     A_t_p \u001b[38;5;241m=\u001b[39m ne\u001b[38;5;241m.\u001b[39mevaluate(\u001b[38;5;124m\"\u001b[39m\u001b[38;5;124m((A00 + (A00*T) + (A00*(T**2)) + (A00*(T**3)) + (A00*(T**4))) +(A00 + (A00*T) + (A00*(T**2)) + (A00*(T**3)) + (A00*(T**4)))*P + (A00 + (A00*T) + (A00*(T**2)) + (A00*(T**3)))*(P**2) +(A00 + (A00*T) + (A00*(T**2)))*(P**3))\u001b[39m\u001b[38;5;124m\"\u001b[39m)\n\u001b[1;32m     11\u001b[0m     \u001b[38;5;28;01mreturn\u001b[39;00m A_t_p\n\u001b[0;32m---> 13\u001b[0m \u001b[43mnp\u001b[49m\u001b[38;5;241;43m.\u001b[39;49m\u001b[43mtesting\u001b[49m\u001b[38;5;241;43m.\u001b[39;49m\u001b[43massert_array_equal\u001b[49m\u001b[43m(\u001b[49m\u001b[43mgetATPNumpy\u001b[49m\u001b[43m(\u001b[49m\u001b[43mT\u001b[49m\u001b[38;5;241;43m=\u001b[39;49m\u001b[43mtemps\u001b[49m\u001b[43m,\u001b[49m\u001b[43mP\u001b[49m\u001b[38;5;241;43m=\u001b[39;49m\u001b[38;5;241;43m-\u001b[39;49m\u001b[43mz\u001b[49m\u001b[43m[\u001b[49m\u001b[43m:\u001b[49m\u001b[43m,\u001b[49m\u001b[43mnp\u001b[49m\u001b[38;5;241;43m.\u001b[39;49m\u001b[43mnewaxis\u001b[49m\u001b[43m]\u001b[49m\u001b[43m)\u001b[49m\u001b[43m,\u001b[49m\u001b[43mgetATPNumExpr\u001b[49m\u001b[43m(\u001b[49m\u001b[43mT\u001b[49m\u001b[38;5;241;43m=\u001b[39;49m\u001b[43mtemps\u001b[49m\u001b[43m,\u001b[49m\u001b[43mP\u001b[49m\u001b[38;5;241;43m=\u001b[39;49m\u001b[38;5;241;43m-\u001b[39;49m\u001b[43mz\u001b[49m\u001b[43m[\u001b[49m\u001b[43m:\u001b[49m\u001b[43m,\u001b[49m\u001b[43mnp\u001b[49m\u001b[38;5;241;43m.\u001b[39;49m\u001b[43mnewaxis\u001b[49m\u001b[43m]\u001b[49m\u001b[43m)\u001b[49m\u001b[43m)\u001b[49m\n",
      "    \u001b[0;31m[... skipping hidden 1 frame]\u001b[0m\n",
      "File \u001b[0;32m~/playModels/programming-fundamentals-demo/demo-env/lib/python3.9/site-packages/numpy/testing/_private/utils.py:844\u001b[0m, in \u001b[0;36massert_array_compare\u001b[0;34m(comparison, x, y, err_msg, verbose, header, precision, equal_nan, equal_inf)\u001b[0m\n\u001b[1;32m    840\u001b[0m         err_msg \u001b[38;5;241m+\u001b[39m\u001b[38;5;241m=\u001b[39m \u001b[38;5;124m'\u001b[39m\u001b[38;5;130;01m\\n\u001b[39;00m\u001b[38;5;124m'\u001b[39m \u001b[38;5;241m+\u001b[39m \u001b[38;5;124m'\u001b[39m\u001b[38;5;130;01m\\n\u001b[39;00m\u001b[38;5;124m'\u001b[39m\u001b[38;5;241m.\u001b[39mjoin(remarks)\n\u001b[1;32m    841\u001b[0m         msg \u001b[38;5;241m=\u001b[39m build_err_msg([ox, oy], err_msg,\n\u001b[1;32m    842\u001b[0m                             verbose\u001b[38;5;241m=\u001b[39mverbose, header\u001b[38;5;241m=\u001b[39mheader,\n\u001b[1;32m    843\u001b[0m                             names\u001b[38;5;241m=\u001b[39m(\u001b[38;5;124m'\u001b[39m\u001b[38;5;124mx\u001b[39m\u001b[38;5;124m'\u001b[39m, \u001b[38;5;124m'\u001b[39m\u001b[38;5;124my\u001b[39m\u001b[38;5;124m'\u001b[39m), precision\u001b[38;5;241m=\u001b[39mprecision)\n\u001b[0;32m--> 844\u001b[0m         \u001b[38;5;28;01mraise\u001b[39;00m \u001b[38;5;167;01mAssertionError\u001b[39;00m(msg)\n\u001b[1;32m    845\u001b[0m \u001b[38;5;28;01mexcept\u001b[39;00m \u001b[38;5;167;01mValueError\u001b[39;00m:\n\u001b[1;32m    846\u001b[0m     \u001b[38;5;28;01mimport\u001b[39;00m \u001b[38;5;21;01mtraceback\u001b[39;00m\n",
      "\u001b[0;31mAssertionError\u001b[0m: \nArrays are not equal\n\nMismatched elements: 54340 / 2470386 (2.2%)\nMax absolute difference: 3.81469727e-06\nMax relative difference: 4.78917858e-16\n x: array([[3.006015e+05, 2.283467e+05, 2.591662e+05, ..., 2.520059e+05,\n        2.127871e+05, 1.984621e+05],\n       [6.532138e+05, 5.049143e+05, 5.683931e+05, ..., 5.536772e+05,...\n y: array([[3.006015e+05, 2.283467e+05, 2.591662e+05, ..., 2.520059e+05,\n        2.127871e+05, 1.984621e+05],\n       [6.532138e+05, 5.049143e+05, 5.683931e+05, ..., 5.536772e+05,..."
     ]
    }
   ],
   "source": [
    "def getATPNumpy(T,P):\n",
    "    A00 = 1\n",
    "    A_t_p = ((A00 + (A00*T) + (A00*(T**2)) + (A00*(T**3)) + (A00*(T**4)))    +\n",
    "             (A00 + (A00*T) + (A00*(T**2)) + (A00*(T**3)) + (A00*(T**4)))*P + \n",
    "             (A00 + (A00*T) + (A00*(T**2)) + (A00*(T**3)))*(P**2) + \n",
    "             (A00 + (A00*T) + (A00*(T**2)))*(P**3))\n",
    "    return A_t_p\n",
    "def getATPNumExpr(T,P):\n",
    "    A00 = 1\n",
    "    A_t_p = ne.evaluate(\"((A00 + (A00*T) + (A00*(T**2)) + (A00*(T**3)) + (A00*(T**4))) +(A00 + (A00*T) + (A00*(T**2)) + (A00*(T**3)) + (A00*(T**4)))*P + (A00 + (A00*T) + (A00*(T**2)) + (A00*(T**3)))*(P**2) +(A00 + (A00*T) + (A00*(T**2)))*(P**3))\")\n",
    "    return A_t_p\n",
    "\n",
    "np.testing.assert_array_equal(getATPNumpy(T=temps,P=-z[:,np.newaxis]),getATPNumExpr(T=temps,P=-z[:,np.newaxis]))"
   ]
  },
  {
   "cell_type": "code",
   "execution_count": 37,
   "id": "bf53d8ff-cbba-4fcb-862b-df12015a4897",
   "metadata": {},
   "outputs": [
    {
     "name": "stdout",
     "output_type": "stream",
     "text": [
      "407 ms ± 0 ns per loop (mean ± std. dev. of 1 run, 1 loop each)\n"
     ]
    }
   ],
   "source": [
    "%timeit -n 1 -r 1 getATPNumpy(T=temps,P=-z[:,np.newaxis])"
   ]
  },
  {
   "cell_type": "code",
   "execution_count": 38,
   "id": "bff4fb5e-8d7b-4e1c-8d7e-a7c3a77c7bd6",
   "metadata": {},
   "outputs": [
    {
     "name": "stdout",
     "output_type": "stream",
     "text": [
      "15.6 ms ± 0 ns per loop (mean ± std. dev. of 1 run, 1 loop each)\n"
     ]
    }
   ],
   "source": [
    "%timeit -n 1 -r 1 getATPNumExpr(T=temps,P=-z[:,np.newaxis])"
   ]
  },
  {
   "cell_type": "code",
   "execution_count": null,
   "id": "0513c93d-b700-4f42-8807-94d79281db63",
   "metadata": {},
   "outputs": [],
   "source": []
  }
 ],
 "metadata": {
  "kernelspec": {
   "display_name": "demo-env",
   "language": "python",
   "name": "demo-env"
  },
  "language_info": {
   "codemirror_mode": {
    "name": "ipython",
    "version": 3
   },
   "file_extension": ".py",
   "mimetype": "text/x-python",
   "name": "python",
   "nbconvert_exporter": "python",
   "pygments_lexer": "ipython3",
   "version": "3.9.1"
  }
 },
 "nbformat": 4,
 "nbformat_minor": 5
}
