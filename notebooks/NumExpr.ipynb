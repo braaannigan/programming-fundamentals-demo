{
 "cells": [
  {
   "cell_type": "code",
   "execution_count": 3,
   "id": "4401e3d1-25d7-4100-b9ce-5bbe3a8e8618",
   "metadata": {},
   "outputs": [],
   "source": [
    "import sys\n",
    "from pathlib import Path\n",
    "\n",
    "currentWorkingDirectory = Path('')\n",
    "projectRootDirectory = currentWorkingDirectory.parent\n",
    "sys.path.append(projectRootDirectory.as_posix())"
   ]
  },
  {
   "cell_type": "code",
   "execution_count": 7,
   "id": "1c169ed6-ef54-4915-820c-cbb6d3e3cc24",
   "metadata": {},
   "outputs": [],
   "source": [
    "import pandas as pd\n",
    "import numpy as np\n",
    "import numexpr as ne\n",
    "\n",
    "from IPython.display import Markdown, display"
   ]
  },
  {
   "cell_type": "code",
   "execution_count": 8,
   "id": "15eee0b9-8671-4709-b750-b551f4941003",
   "metadata": {},
   "outputs": [],
   "source": [
    "dataPath = Path(\"../data/raw/\")\n",
    "interimDataPath = Path(\"../data/interim/\")\n",
    "\n",
    "def loadData(duplicateN:int=1):\n",
    "    df = pd.read_csv(dataPath / \"atlanticInterpolated.csv\")\n",
    "    z = df.z.values\n",
    "    dropColumns = []\n",
    "    for col in df.columns:\n",
    "        if df.loc[30, col] > df.loc[0, col] - 0.1:\n",
    "            dropColumns.append(col)\n",
    "    df = df.drop(columns=dropColumns)\n",
    "    df = pd.concat([df for _ in range(duplicateN)], axis=1)\n",
    "    temps = df.iloc[:, 1:].values\n",
    "    surfaceTemps = temps[:2, :].mean(axis=0)\n",
    "    return df, temps, z, surfaceTemps"
   ]
  },
  {
   "cell_type": "code",
   "execution_count": 14,
   "id": "ea370f60-d949-4ba9-83b1-024119afa5a3",
   "metadata": {},
   "outputs": [],
   "source": [
    "df, temps, z, surfaceTemps = loadData(duplicateN=5)"
   ]
  },
  {
   "cell_type": "code",
   "execution_count": 15,
   "id": "b4ca79a5-8ca1-4993-a2a6-17c1c84e51b0",
   "metadata": {},
   "outputs": [],
   "source": [
    "thresholdTemperatureDifference = 0.1"
   ]
  },
  {
   "cell_type": "code",
   "execution_count": 16,
   "id": "ffe7508d-611f-4a09-a20d-48e96e53c8b5",
   "metadata": {},
   "outputs": [
    {
     "name": "stdout",
     "output_type": "stream",
     "text": [
      "82.3 ms ± 0 ns per loop (mean ± std. dev. of 1 run, 1 loop each)\n"
     ]
    }
   ],
   "source": [
    "%timeit -n 1 -r 1 (temps < (surfaceTemps - thresholdTemperatureDifference)).nonzero()"
   ]
  },
  {
   "cell_type": "code",
   "execution_count": 17,
   "id": "44470e87-3d95-4a45-83e8-29d338f0aa70",
   "metadata": {},
   "outputs": [
    {
     "name": "stdout",
     "output_type": "stream",
     "text": [
      "27.6 ms ± 0 ns per loop (mean ± std. dev. of 1 run, 1 loop each)\n"
     ]
    }
   ],
   "source": [
    "%timeit -n 1 -r 1 ne.evaluate(\"temps < (surfaceTemps - thresholdTemperatureDifference)\").nonzero()"
   ]
  },
  {
   "cell_type": "code",
   "execution_count": null,
   "id": "749d2a67-d677-47ea-8358-0200042b4243",
   "metadata": {},
   "outputs": [],
   "source": []
  }
 ],
 "metadata": {
  "kernelspec": {
   "display_name": "demo-env",
   "language": "python",
   "name": "demo-env"
  },
  "language_info": {
   "codemirror_mode": {
    "name": "ipython",
    "version": 3
   },
   "file_extension": ".py",
   "mimetype": "text/x-python",
   "name": "python",
   "nbconvert_exporter": "python",
   "pygments_lexer": "ipython3",
   "version": "3.9.1"
  }
 },
 "nbformat": 4,
 "nbformat_minor": 5
}
