{
 "cells": [
  {
   "cell_type": "code",
   "execution_count": 18,
   "id": "3f6840f5-77e3-465e-ace1-16bca1dc9a22",
   "metadata": {},
   "outputs": [],
   "source": [
    "# !pip install ipytest"
   ]
  },
  {
   "cell_type": "code",
   "execution_count": 17,
   "id": "bc8b74d7-9795-4c8f-b097-752a58fddccc",
   "metadata": {},
   "outputs": [],
   "source": [
    "from pathlib import Path\n",
    "\n",
    "import pandas as pd\n",
    "import ipytest\n",
    "ipytest.autoconfig()"
   ]
  },
  {
   "cell_type": "markdown",
   "id": "e13b0355-d433-4ab7-a849-5883913e88a8",
   "metadata": {},
   "source": [
    "# Specify paths with built-in `pathlib` library"
   ]
  },
  {
   "cell_type": "code",
   "execution_count": 3,
   "id": "90dbb705-5d5a-4650-8be6-3b884490d79e",
   "metadata": {},
   "outputs": [],
   "source": [
    "dataPath = Path('../data')\n",
    "rawDataPath = dataPath / 'raw'"
   ]
  },
  {
   "cell_type": "markdown",
   "id": "97d557ce-493c-4767-b833-f2663d3fd04d",
   "metadata": {},
   "source": [
    "## Check if the directory exists"
   ]
  },
  {
   "cell_type": "code",
   "execution_count": 4,
   "id": "451a4489-9f5d-43cd-b44b-7ec8739533c4",
   "metadata": {},
   "outputs": [
    {
     "data": {
      "text/plain": [
       "True"
      ]
     },
     "execution_count": 4,
     "metadata": {},
     "output_type": "execute_result"
    }
   ],
   "source": [
    "rawDataPath.exists()"
   ]
  },
  {
   "cell_type": "markdown",
   "id": "5e86904d-ec25-4dc3-aed7-4793f2a6f73a",
   "metadata": {},
   "source": [
    "### Get a list of CSVs in that directory"
   ]
  },
  {
   "cell_type": "code",
   "execution_count": 15,
   "id": "45148fdc-6988-4cb4-befe-c442385f4a77",
   "metadata": {},
   "outputs": [
    {
     "data": {
      "text/plain": [
       "[PosixPath('../data/raw/atlanticInterpolated.csv'),\n",
       " PosixPath('../data/raw/large.csv'),\n",
       " PosixPath('../data/raw/atlanticInterpolatedtest.csv')]"
      ]
     },
     "execution_count": 15,
     "metadata": {},
     "output_type": "execute_result"
    }
   ],
   "source": [
    "list(rawDataPath.glob('*.csv'))"
   ]
  },
  {
   "cell_type": "markdown",
   "id": "38b70b1e-a5da-4a47-bbbf-6381cf0fc53f",
   "metadata": {},
   "source": [
    "# f-strings - an easier way to add your variables into strings"
   ]
  },
  {
   "cell_type": "code",
   "execution_count": 13,
   "id": "5a423b2c-3667-4499-af20-4da19bed07d3",
   "metadata": {},
   "outputs": [
    {
     "data": {
      "text/plain": [
       "'current year is 2022'"
      ]
     },
     "execution_count": 13,
     "metadata": {},
     "output_type": "execute_result"
    }
   ],
   "source": [
    "year = 2022\n",
    "currentYear = f\"current year is {year}\"\n",
    "currentYear"
   ]
  },
  {
   "cell_type": "code",
   "execution_count": 5,
   "id": "8e6535ad-9103-476c-91de-c9acd646e508",
   "metadata": {},
   "outputs": [
    {
     "data": {
      "text/html": [
       "<div>\n",
       "<style scoped>\n",
       "    .dataframe tbody tr th:only-of-type {\n",
       "        vertical-align: middle;\n",
       "    }\n",
       "\n",
       "    .dataframe tbody tr th {\n",
       "        vertical-align: top;\n",
       "    }\n",
       "\n",
       "    .dataframe thead th {\n",
       "        text-align: right;\n",
       "    }\n",
       "</style>\n",
       "<table border=\"1\" class=\"dataframe\">\n",
       "  <thead>\n",
       "    <tr style=\"text-align: right;\">\n",
       "      <th></th>\n",
       "      <th>z</th>\n",
       "      <th>0:June:2020</th>\n",
       "      <th>1:June:2020</th>\n",
       "      <th>2:July:2020</th>\n",
       "      <th>3:June:2021</th>\n",
       "      <th>4:June:2021</th>\n",
       "      <th>5:June:2021</th>\n",
       "      <th>6:April:2016</th>\n",
       "      <th>7:March:2018</th>\n",
       "      <th>8:May:2005</th>\n",
       "      <th>...</th>\n",
       "      <th>3915:August:2020</th>\n",
       "      <th>3916:August:2020</th>\n",
       "      <th>3917:September:2020</th>\n",
       "      <th>3918:September:2020</th>\n",
       "      <th>3919:September:2020</th>\n",
       "      <th>3920:October:2020</th>\n",
       "      <th>3921:October:2020</th>\n",
       "      <th>3922:October:2020</th>\n",
       "      <th>3923:November:2020</th>\n",
       "      <th>3924:November:2020</th>\n",
       "    </tr>\n",
       "  </thead>\n",
       "  <tbody>\n",
       "    <tr>\n",
       "      <th>0</th>\n",
       "      <td>-3.0</td>\n",
       "      <td>15.655000</td>\n",
       "      <td>14.549000</td>\n",
       "      <td>15.049000</td>\n",
       "      <td>12.23700</td>\n",
       "      <td>14.069000</td>\n",
       "      <td>14.178000</td>\n",
       "      <td>11.1030</td>\n",
       "      <td>10.482000</td>\n",
       "      <td>13.578</td>\n",
       "      <td>...</td>\n",
       "      <td>18.712999</td>\n",
       "      <td>17.341000</td>\n",
       "      <td>17.504000</td>\n",
       "      <td>18.089001</td>\n",
       "      <td>16.770000</td>\n",
       "      <td>15.748000</td>\n",
       "      <td>15.240000</td>\n",
       "      <td>14.937000</td>\n",
       "      <td>14.277000</td>\n",
       "      <td>14.013000</td>\n",
       "    </tr>\n",
       "    <tr>\n",
       "      <th>1</th>\n",
       "      <td>-6.0</td>\n",
       "      <td>15.655000</td>\n",
       "      <td>14.549000</td>\n",
       "      <td>15.049000</td>\n",
       "      <td>12.23700</td>\n",
       "      <td>14.069000</td>\n",
       "      <td>14.178000</td>\n",
       "      <td>11.1030</td>\n",
       "      <td>10.482000</td>\n",
       "      <td>13.578</td>\n",
       "      <td>...</td>\n",
       "      <td>18.712999</td>\n",
       "      <td>17.341000</td>\n",
       "      <td>17.504000</td>\n",
       "      <td>18.089126</td>\n",
       "      <td>16.770000</td>\n",
       "      <td>15.747917</td>\n",
       "      <td>15.240000</td>\n",
       "      <td>14.937000</td>\n",
       "      <td>14.277000</td>\n",
       "      <td>14.013000</td>\n",
       "    </tr>\n",
       "    <tr>\n",
       "      <th>2</th>\n",
       "      <td>-9.0</td>\n",
       "      <td>15.655000</td>\n",
       "      <td>14.548529</td>\n",
       "      <td>15.049387</td>\n",
       "      <td>12.23700</td>\n",
       "      <td>14.069000</td>\n",
       "      <td>14.178000</td>\n",
       "      <td>11.1025</td>\n",
       "      <td>10.482000</td>\n",
       "      <td>13.578</td>\n",
       "      <td>...</td>\n",
       "      <td>18.637727</td>\n",
       "      <td>17.340600</td>\n",
       "      <td>17.507999</td>\n",
       "      <td>17.936714</td>\n",
       "      <td>16.763000</td>\n",
       "      <td>15.748000</td>\n",
       "      <td>15.240636</td>\n",
       "      <td>14.936455</td>\n",
       "      <td>14.274800</td>\n",
       "      <td>14.014900</td>\n",
       "    </tr>\n",
       "    <tr>\n",
       "      <th>3</th>\n",
       "      <td>-12.0</td>\n",
       "      <td>15.655000</td>\n",
       "      <td>14.545000</td>\n",
       "      <td>15.053000</td>\n",
       "      <td>12.23700</td>\n",
       "      <td>14.068902</td>\n",
       "      <td>14.178000</td>\n",
       "      <td>11.1010</td>\n",
       "      <td>10.482539</td>\n",
       "      <td>13.578</td>\n",
       "      <td>...</td>\n",
       "      <td>18.509321</td>\n",
       "      <td>17.339786</td>\n",
       "      <td>17.492400</td>\n",
       "      <td>17.435621</td>\n",
       "      <td>16.769793</td>\n",
       "      <td>15.748645</td>\n",
       "      <td>15.243560</td>\n",
       "      <td>14.935667</td>\n",
       "      <td>14.278457</td>\n",
       "      <td>14.015333</td>\n",
       "    </tr>\n",
       "    <tr>\n",
       "      <th>4</th>\n",
       "      <td>-15.0</td>\n",
       "      <td>15.526556</td>\n",
       "      <td>14.539490</td>\n",
       "      <td>15.053000</td>\n",
       "      <td>12.22939</td>\n",
       "      <td>14.065961</td>\n",
       "      <td>14.166511</td>\n",
       "      <td>11.0999</td>\n",
       "      <td>10.493579</td>\n",
       "      <td>13.578</td>\n",
       "      <td>...</td>\n",
       "      <td>18.273146</td>\n",
       "      <td>17.340461</td>\n",
       "      <td>17.431673</td>\n",
       "      <td>17.029636</td>\n",
       "      <td>16.772415</td>\n",
       "      <td>15.749808</td>\n",
       "      <td>15.246787</td>\n",
       "      <td>14.936775</td>\n",
       "      <td>14.280000</td>\n",
       "      <td>14.015583</td>\n",
       "    </tr>\n",
       "  </tbody>\n",
       "</table>\n",
       "<p>5 rows × 3926 columns</p>\n",
       "</div>"
      ],
      "text/plain": [
       "      z  0:June:2020  1:June:2020  2:July:2020  3:June:2021  4:June:2021  \\\n",
       "0  -3.0    15.655000    14.549000    15.049000     12.23700    14.069000   \n",
       "1  -6.0    15.655000    14.549000    15.049000     12.23700    14.069000   \n",
       "2  -9.0    15.655000    14.548529    15.049387     12.23700    14.069000   \n",
       "3 -12.0    15.655000    14.545000    15.053000     12.23700    14.068902   \n",
       "4 -15.0    15.526556    14.539490    15.053000     12.22939    14.065961   \n",
       "\n",
       "   5:June:2021  6:April:2016  7:March:2018  8:May:2005  ...  3915:August:2020  \\\n",
       "0    14.178000       11.1030     10.482000      13.578  ...         18.712999   \n",
       "1    14.178000       11.1030     10.482000      13.578  ...         18.712999   \n",
       "2    14.178000       11.1025     10.482000      13.578  ...         18.637727   \n",
       "3    14.178000       11.1010     10.482539      13.578  ...         18.509321   \n",
       "4    14.166511       11.0999     10.493579      13.578  ...         18.273146   \n",
       "\n",
       "   3916:August:2020  3917:September:2020  3918:September:2020  \\\n",
       "0         17.341000            17.504000            18.089001   \n",
       "1         17.341000            17.504000            18.089126   \n",
       "2         17.340600            17.507999            17.936714   \n",
       "3         17.339786            17.492400            17.435621   \n",
       "4         17.340461            17.431673            17.029636   \n",
       "\n",
       "   3919:September:2020  3920:October:2020  3921:October:2020  \\\n",
       "0            16.770000          15.748000          15.240000   \n",
       "1            16.770000          15.747917          15.240000   \n",
       "2            16.763000          15.748000          15.240636   \n",
       "3            16.769793          15.748645          15.243560   \n",
       "4            16.772415          15.749808          15.246787   \n",
       "\n",
       "   3922:October:2020  3923:November:2020  3924:November:2020  \n",
       "0          14.937000           14.277000           14.013000  \n",
       "1          14.937000           14.277000           14.013000  \n",
       "2          14.936455           14.274800           14.014900  \n",
       "3          14.935667           14.278457           14.015333  \n",
       "4          14.936775           14.280000           14.015583  \n",
       "\n",
       "[5 rows x 3926 columns]"
      ]
     },
     "execution_count": 5,
     "metadata": {},
     "output_type": "execute_result"
    }
   ],
   "source": [
    "def loadData():\n",
    "    df = pd.read_csv(rawDataPath / 'atlanticInterpolated.csv')\n",
    "    return df\n",
    "\n",
    "df = loadData()\n",
    "df.head()"
   ]
  },
  {
   "cell_type": "code",
   "execution_count": 6,
   "id": "6953f8b7-06cb-405d-8245-f0e61b82aaee",
   "metadata": {},
   "outputs": [],
   "source": [
    "def getColumn(df:pd.DataFrame,col:str):\n",
    "    return df.loc[:,col]"
   ]
  },
  {
   "cell_type": "code",
   "execution_count": 7,
   "id": "cc96c476-a45b-42e6-b497-9f22d30b1ac6",
   "metadata": {},
   "outputs": [
    {
     "ename": "KeyError",
     "evalue": "'x'",
     "output_type": "error",
     "traceback": [
      "\u001b[0;31m---------------------------------------------------------------------------\u001b[0m",
      "\u001b[0;31mKeyError\u001b[0m                                  Traceback (most recent call last)",
      "File \u001b[0;32m~/playModels/programming-fundamentals-demo/demo-env/lib/python3.9/site-packages/pandas/core/indexes/base.py:3621\u001b[0m, in \u001b[0;36mIndex.get_loc\u001b[0;34m(self, key, method, tolerance)\u001b[0m\n\u001b[1;32m   3620\u001b[0m \u001b[38;5;28;01mtry\u001b[39;00m:\n\u001b[0;32m-> 3621\u001b[0m     \u001b[38;5;28;01mreturn\u001b[39;00m \u001b[38;5;28;43mself\u001b[39;49m\u001b[38;5;241;43m.\u001b[39;49m\u001b[43m_engine\u001b[49m\u001b[38;5;241;43m.\u001b[39;49m\u001b[43mget_loc\u001b[49m\u001b[43m(\u001b[49m\u001b[43mcasted_key\u001b[49m\u001b[43m)\u001b[49m\n\u001b[1;32m   3622\u001b[0m \u001b[38;5;28;01mexcept\u001b[39;00m \u001b[38;5;167;01mKeyError\u001b[39;00m \u001b[38;5;28;01mas\u001b[39;00m err:\n",
      "File \u001b[0;32m~/playModels/programming-fundamentals-demo/demo-env/lib/python3.9/site-packages/pandas/_libs/index.pyx:136\u001b[0m, in \u001b[0;36mpandas._libs.index.IndexEngine.get_loc\u001b[0;34m()\u001b[0m\n",
      "File \u001b[0;32m~/playModels/programming-fundamentals-demo/demo-env/lib/python3.9/site-packages/pandas/_libs/index.pyx:163\u001b[0m, in \u001b[0;36mpandas._libs.index.IndexEngine.get_loc\u001b[0;34m()\u001b[0m\n",
      "File \u001b[0;32mpandas/_libs/hashtable_class_helper.pxi:5198\u001b[0m, in \u001b[0;36mpandas._libs.hashtable.PyObjectHashTable.get_item\u001b[0;34m()\u001b[0m\n",
      "File \u001b[0;32mpandas/_libs/hashtable_class_helper.pxi:5206\u001b[0m, in \u001b[0;36mpandas._libs.hashtable.PyObjectHashTable.get_item\u001b[0;34m()\u001b[0m\n",
      "\u001b[0;31mKeyError\u001b[0m: 'x'",
      "\nThe above exception was the direct cause of the following exception:\n",
      "\u001b[0;31mKeyError\u001b[0m                                  Traceback (most recent call last)",
      "Input \u001b[0;32mIn [7]\u001b[0m, in \u001b[0;36m<cell line: 2>\u001b[0;34m()\u001b[0m\n\u001b[1;32m      1\u001b[0m col \u001b[38;5;241m=\u001b[39m \u001b[38;5;124m'\u001b[39m\u001b[38;5;124mx\u001b[39m\u001b[38;5;124m'\u001b[39m\n\u001b[0;32m----> 2\u001b[0m getColumn(df\u001b[38;5;241m=\u001b[39mdf,col\u001b[38;5;241m=\u001b[39mcol)\n",
      "Input \u001b[0;32mIn [6]\u001b[0m, in \u001b[0;36mgetColumn\u001b[0;34m(df, col)\u001b[0m\n\u001b[1;32m      1\u001b[0m \u001b[38;5;28;01mdef\u001b[39;00m \u001b[38;5;21mgetColumn\u001b[39m(df:pd\u001b[38;5;241m.\u001b[39mDataFrame,col:\u001b[38;5;28mstr\u001b[39m):\n\u001b[0;32m----> 2\u001b[0m     \u001b[38;5;28;01mreturn\u001b[39;00m \u001b[43mdf\u001b[49m\u001b[38;5;241;43m.\u001b[39;49m\u001b[43mloc\u001b[49m\u001b[43m[\u001b[49m\u001b[43m:\u001b[49m\u001b[43m,\u001b[49m\u001b[43mcol\u001b[49m\u001b[43m]\u001b[49m\n",
      "File \u001b[0;32m~/playModels/programming-fundamentals-demo/demo-env/lib/python3.9/site-packages/pandas/core/indexing.py:961\u001b[0m, in \u001b[0;36m_LocationIndexer.__getitem__\u001b[0;34m(self, key)\u001b[0m\n\u001b[1;32m    959\u001b[0m     \u001b[38;5;28;01mif\u001b[39;00m \u001b[38;5;28mself\u001b[39m\u001b[38;5;241m.\u001b[39m_is_scalar_access(key):\n\u001b[1;32m    960\u001b[0m         \u001b[38;5;28;01mreturn\u001b[39;00m \u001b[38;5;28mself\u001b[39m\u001b[38;5;241m.\u001b[39mobj\u001b[38;5;241m.\u001b[39m_get_value(\u001b[38;5;241m*\u001b[39mkey, takeable\u001b[38;5;241m=\u001b[39m\u001b[38;5;28mself\u001b[39m\u001b[38;5;241m.\u001b[39m_takeable)\n\u001b[0;32m--> 961\u001b[0m     \u001b[38;5;28;01mreturn\u001b[39;00m \u001b[38;5;28;43mself\u001b[39;49m\u001b[38;5;241;43m.\u001b[39;49m\u001b[43m_getitem_tuple\u001b[49m\u001b[43m(\u001b[49m\u001b[43mkey\u001b[49m\u001b[43m)\u001b[49m\n\u001b[1;32m    962\u001b[0m \u001b[38;5;28;01melse\u001b[39;00m:\n\u001b[1;32m    963\u001b[0m     \u001b[38;5;66;03m# we by definition only have the 0th axis\u001b[39;00m\n\u001b[1;32m    964\u001b[0m     axis \u001b[38;5;241m=\u001b[39m \u001b[38;5;28mself\u001b[39m\u001b[38;5;241m.\u001b[39maxis \u001b[38;5;129;01mor\u001b[39;00m \u001b[38;5;241m0\u001b[39m\n",
      "File \u001b[0;32m~/playModels/programming-fundamentals-demo/demo-env/lib/python3.9/site-packages/pandas/core/indexing.py:1140\u001b[0m, in \u001b[0;36m_LocIndexer._getitem_tuple\u001b[0;34m(self, tup)\u001b[0m\n\u001b[1;32m   1138\u001b[0m \u001b[38;5;28;01mwith\u001b[39;00m suppress(IndexingError):\n\u001b[1;32m   1139\u001b[0m     tup \u001b[38;5;241m=\u001b[39m \u001b[38;5;28mself\u001b[39m\u001b[38;5;241m.\u001b[39m_expand_ellipsis(tup)\n\u001b[0;32m-> 1140\u001b[0m     \u001b[38;5;28;01mreturn\u001b[39;00m \u001b[38;5;28;43mself\u001b[39;49m\u001b[38;5;241;43m.\u001b[39;49m\u001b[43m_getitem_lowerdim\u001b[49m\u001b[43m(\u001b[49m\u001b[43mtup\u001b[49m\u001b[43m)\u001b[49m\n\u001b[1;32m   1142\u001b[0m \u001b[38;5;66;03m# no multi-index, so validate all of the indexers\u001b[39;00m\n\u001b[1;32m   1143\u001b[0m tup \u001b[38;5;241m=\u001b[39m \u001b[38;5;28mself\u001b[39m\u001b[38;5;241m.\u001b[39m_validate_tuple_indexer(tup)\n",
      "File \u001b[0;32m~/playModels/programming-fundamentals-demo/demo-env/lib/python3.9/site-packages/pandas/core/indexing.py:867\u001b[0m, in \u001b[0;36m_LocationIndexer._getitem_lowerdim\u001b[0;34m(self, tup)\u001b[0m\n\u001b[1;32m    863\u001b[0m \u001b[38;5;28;01mfor\u001b[39;00m i, key \u001b[38;5;129;01min\u001b[39;00m \u001b[38;5;28menumerate\u001b[39m(tup):\n\u001b[1;32m    864\u001b[0m     \u001b[38;5;28;01mif\u001b[39;00m is_label_like(key):\n\u001b[1;32m    865\u001b[0m         \u001b[38;5;66;03m# We don't need to check for tuples here because those are\u001b[39;00m\n\u001b[1;32m    866\u001b[0m         \u001b[38;5;66;03m#  caught by the _is_nested_tuple_indexer check above.\u001b[39;00m\n\u001b[0;32m--> 867\u001b[0m         section \u001b[38;5;241m=\u001b[39m \u001b[38;5;28;43mself\u001b[39;49m\u001b[38;5;241;43m.\u001b[39;49m\u001b[43m_getitem_axis\u001b[49m\u001b[43m(\u001b[49m\u001b[43mkey\u001b[49m\u001b[43m,\u001b[49m\u001b[43m \u001b[49m\u001b[43maxis\u001b[49m\u001b[38;5;241;43m=\u001b[39;49m\u001b[43mi\u001b[49m\u001b[43m)\u001b[49m\n\u001b[1;32m    869\u001b[0m         \u001b[38;5;66;03m# We should never have a scalar section here, because\u001b[39;00m\n\u001b[1;32m    870\u001b[0m         \u001b[38;5;66;03m#  _getitem_lowerdim is only called after a check for\u001b[39;00m\n\u001b[1;32m    871\u001b[0m         \u001b[38;5;66;03m#  is_scalar_access, which that would be.\u001b[39;00m\n\u001b[1;32m    872\u001b[0m         \u001b[38;5;28;01mif\u001b[39;00m section\u001b[38;5;241m.\u001b[39mndim \u001b[38;5;241m==\u001b[39m \u001b[38;5;28mself\u001b[39m\u001b[38;5;241m.\u001b[39mndim:\n\u001b[1;32m    873\u001b[0m             \u001b[38;5;66;03m# we're in the middle of slicing through a MultiIndex\u001b[39;00m\n\u001b[1;32m    874\u001b[0m             \u001b[38;5;66;03m# revise the key wrt to `section` by inserting an _NS\u001b[39;00m\n",
      "File \u001b[0;32m~/playModels/programming-fundamentals-demo/demo-env/lib/python3.9/site-packages/pandas/core/indexing.py:1202\u001b[0m, in \u001b[0;36m_LocIndexer._getitem_axis\u001b[0;34m(self, key, axis)\u001b[0m\n\u001b[1;32m   1200\u001b[0m \u001b[38;5;66;03m# fall thru to straight lookup\u001b[39;00m\n\u001b[1;32m   1201\u001b[0m \u001b[38;5;28mself\u001b[39m\u001b[38;5;241m.\u001b[39m_validate_key(key, axis)\n\u001b[0;32m-> 1202\u001b[0m \u001b[38;5;28;01mreturn\u001b[39;00m \u001b[38;5;28;43mself\u001b[39;49m\u001b[38;5;241;43m.\u001b[39;49m\u001b[43m_get_label\u001b[49m\u001b[43m(\u001b[49m\u001b[43mkey\u001b[49m\u001b[43m,\u001b[49m\u001b[43m \u001b[49m\u001b[43maxis\u001b[49m\u001b[38;5;241;43m=\u001b[39;49m\u001b[43maxis\u001b[49m\u001b[43m)\u001b[49m\n",
      "File \u001b[0;32m~/playModels/programming-fundamentals-demo/demo-env/lib/python3.9/site-packages/pandas/core/indexing.py:1153\u001b[0m, in \u001b[0;36m_LocIndexer._get_label\u001b[0;34m(self, label, axis)\u001b[0m\n\u001b[1;32m   1151\u001b[0m \u001b[38;5;28;01mdef\u001b[39;00m \u001b[38;5;21m_get_label\u001b[39m(\u001b[38;5;28mself\u001b[39m, label, axis: \u001b[38;5;28mint\u001b[39m):\n\u001b[1;32m   1152\u001b[0m     \u001b[38;5;66;03m# GH#5667 this will fail if the label is not present in the axis.\u001b[39;00m\n\u001b[0;32m-> 1153\u001b[0m     \u001b[38;5;28;01mreturn\u001b[39;00m \u001b[38;5;28;43mself\u001b[39;49m\u001b[38;5;241;43m.\u001b[39;49m\u001b[43mobj\u001b[49m\u001b[38;5;241;43m.\u001b[39;49m\u001b[43mxs\u001b[49m\u001b[43m(\u001b[49m\u001b[43mlabel\u001b[49m\u001b[43m,\u001b[49m\u001b[43m \u001b[49m\u001b[43maxis\u001b[49m\u001b[38;5;241;43m=\u001b[39;49m\u001b[43maxis\u001b[49m\u001b[43m)\u001b[49m\n",
      "File \u001b[0;32m~/playModels/programming-fundamentals-demo/demo-env/lib/python3.9/site-packages/pandas/core/generic.py:3861\u001b[0m, in \u001b[0;36mNDFrame.xs\u001b[0;34m(self, key, axis, level, drop_level)\u001b[0m\n\u001b[1;32m   3859\u001b[0m \u001b[38;5;28;01mif\u001b[39;00m axis \u001b[38;5;241m==\u001b[39m \u001b[38;5;241m1\u001b[39m:\n\u001b[1;32m   3860\u001b[0m     \u001b[38;5;28;01mif\u001b[39;00m drop_level:\n\u001b[0;32m-> 3861\u001b[0m         \u001b[38;5;28;01mreturn\u001b[39;00m \u001b[38;5;28;43mself\u001b[39;49m\u001b[43m[\u001b[49m\u001b[43mkey\u001b[49m\u001b[43m]\u001b[49m\n\u001b[1;32m   3862\u001b[0m     index \u001b[38;5;241m=\u001b[39m \u001b[38;5;28mself\u001b[39m\u001b[38;5;241m.\u001b[39mcolumns\n\u001b[1;32m   3863\u001b[0m \u001b[38;5;28;01melse\u001b[39;00m:\n",
      "File \u001b[0;32m~/playModels/programming-fundamentals-demo/demo-env/lib/python3.9/site-packages/pandas/core/frame.py:3505\u001b[0m, in \u001b[0;36mDataFrame.__getitem__\u001b[0;34m(self, key)\u001b[0m\n\u001b[1;32m   3503\u001b[0m \u001b[38;5;28;01mif\u001b[39;00m \u001b[38;5;28mself\u001b[39m\u001b[38;5;241m.\u001b[39mcolumns\u001b[38;5;241m.\u001b[39mnlevels \u001b[38;5;241m>\u001b[39m \u001b[38;5;241m1\u001b[39m:\n\u001b[1;32m   3504\u001b[0m     \u001b[38;5;28;01mreturn\u001b[39;00m \u001b[38;5;28mself\u001b[39m\u001b[38;5;241m.\u001b[39m_getitem_multilevel(key)\n\u001b[0;32m-> 3505\u001b[0m indexer \u001b[38;5;241m=\u001b[39m \u001b[38;5;28;43mself\u001b[39;49m\u001b[38;5;241;43m.\u001b[39;49m\u001b[43mcolumns\u001b[49m\u001b[38;5;241;43m.\u001b[39;49m\u001b[43mget_loc\u001b[49m\u001b[43m(\u001b[49m\u001b[43mkey\u001b[49m\u001b[43m)\u001b[49m\n\u001b[1;32m   3506\u001b[0m \u001b[38;5;28;01mif\u001b[39;00m is_integer(indexer):\n\u001b[1;32m   3507\u001b[0m     indexer \u001b[38;5;241m=\u001b[39m [indexer]\n",
      "File \u001b[0;32m~/playModels/programming-fundamentals-demo/demo-env/lib/python3.9/site-packages/pandas/core/indexes/base.py:3623\u001b[0m, in \u001b[0;36mIndex.get_loc\u001b[0;34m(self, key, method, tolerance)\u001b[0m\n\u001b[1;32m   3621\u001b[0m     \u001b[38;5;28;01mreturn\u001b[39;00m \u001b[38;5;28mself\u001b[39m\u001b[38;5;241m.\u001b[39m_engine\u001b[38;5;241m.\u001b[39mget_loc(casted_key)\n\u001b[1;32m   3622\u001b[0m \u001b[38;5;28;01mexcept\u001b[39;00m \u001b[38;5;167;01mKeyError\u001b[39;00m \u001b[38;5;28;01mas\u001b[39;00m err:\n\u001b[0;32m-> 3623\u001b[0m     \u001b[38;5;28;01mraise\u001b[39;00m \u001b[38;5;167;01mKeyError\u001b[39;00m(key) \u001b[38;5;28;01mfrom\u001b[39;00m \u001b[38;5;21;01merr\u001b[39;00m\n\u001b[1;32m   3624\u001b[0m \u001b[38;5;28;01mexcept\u001b[39;00m \u001b[38;5;167;01mTypeError\u001b[39;00m:\n\u001b[1;32m   3625\u001b[0m     \u001b[38;5;66;03m# If we have a listlike key, _check_indexing_error will raise\u001b[39;00m\n\u001b[1;32m   3626\u001b[0m     \u001b[38;5;66;03m#  InvalidIndexError. Otherwise we fall through and re-raise\u001b[39;00m\n\u001b[1;32m   3627\u001b[0m     \u001b[38;5;66;03m#  the TypeError.\u001b[39;00m\n\u001b[1;32m   3628\u001b[0m     \u001b[38;5;28mself\u001b[39m\u001b[38;5;241m.\u001b[39m_check_indexing_error(key)\n",
      "\u001b[0;31mKeyError\u001b[0m: 'x'"
     ]
    }
   ],
   "source": [
    "col = 'x'\n",
    "getColumn(df=df,col=col)"
   ]
  },
  {
   "cell_type": "code",
   "execution_count": 8,
   "id": "7505058f-eaf2-42ea-9f11-039472df7ff0",
   "metadata": {},
   "outputs": [],
   "source": [
    "def getAverageTemperature(df:pd.DataFrame):\n",
    "    return df.mean()"
   ]
  },
  {
   "cell_type": "code",
   "execution_count": 9,
   "id": "0b4906a6-042c-44f4-83e0-bd9cf12afc7e",
   "metadata": {},
   "outputs": [
    {
     "ename": "AssertionError",
     "evalue": "",
     "output_type": "error",
     "traceback": [
      "\u001b[0;31m---------------------------------------------------------------------------\u001b[0m",
      "\u001b[0;31mAssertionError\u001b[0m                            Traceback (most recent call last)",
      "Input \u001b[0;32mIn [9]\u001b[0m, in \u001b[0;36m<cell line: 12>\u001b[0;34m()\u001b[0m\n\u001b[1;32m      9\u001b[0m     \u001b[38;5;66;03m# ASSERT\u001b[39;00m\n\u001b[1;32m     10\u001b[0m     \u001b[38;5;28;01massert\u001b[39;00m \u001b[38;5;28misinstance\u001b[39m(dfAverage,pd\u001b[38;5;241m.\u001b[39mDataFrame)\n\u001b[0;32m---> 12\u001b[0m test_getAverageTemperature()\n",
      "Input \u001b[0;32mIn [9]\u001b[0m, in \u001b[0;36mtest_getAverageTemperature\u001b[0;34m()\u001b[0m\n\u001b[1;32m      8\u001b[0m dfAverage \u001b[38;5;241m=\u001b[39m getAverageTemperature(df\u001b[38;5;241m=\u001b[39mdf)\n\u001b[1;32m      9\u001b[0m \u001b[38;5;66;03m# ASSERT\u001b[39;00m\n\u001b[0;32m---> 10\u001b[0m \u001b[38;5;28;01massert\u001b[39;00m \u001b[38;5;28misinstance\u001b[39m(dfAverage,pd\u001b[38;5;241m.\u001b[39mDataFrame)\n",
      "\u001b[0;31mAssertionError\u001b[0m: "
     ]
    }
   ],
   "source": [
    "def test_getAverageTemperature():\n",
    "    # ARRANGE\n",
    "    # load the data\n",
    "    df = loadData()\n",
    "    # select the first two columns\n",
    "    df = df.iloc[:,:2]\n",
    "    # ACT\n",
    "    dfAverage = getAverageTemperature(df=df)\n",
    "    # ASSERT\n",
    "    assert isinstance(dfAverage,pd.DataFrame)\n",
    "\n",
    "test_getAverageTemperature()"
   ]
  },
  {
   "cell_type": "markdown",
   "id": "0cf33a61-6b4a-40b2-a557-b9b25bddb34f",
   "metadata": {},
   "source": [
    "## Responding to a test failure 1: Add an error message to the assert statement"
   ]
  },
  {
   "cell_type": "code",
   "execution_count": 10,
   "id": "485e856b-6b47-4720-ab3e-8b2f82717c10",
   "metadata": {},
   "outputs": [
    {
     "ename": "AssertionError",
     "evalue": "<class 'pandas.core.series.Series'>",
     "output_type": "error",
     "traceback": [
      "\u001b[0;31m---------------------------------------------------------------------------\u001b[0m",
      "\u001b[0;31mAssertionError\u001b[0m                            Traceback (most recent call last)",
      "Input \u001b[0;32mIn [10]\u001b[0m, in \u001b[0;36m<cell line: 12>\u001b[0;34m()\u001b[0m\n\u001b[1;32m      9\u001b[0m     \u001b[38;5;66;03m# ASSERT\u001b[39;00m\n\u001b[1;32m     10\u001b[0m     \u001b[38;5;28;01massert\u001b[39;00m \u001b[38;5;28misinstance\u001b[39m(dfAverage,pd\u001b[38;5;241m.\u001b[39mDataFrame),\u001b[38;5;124mf\u001b[39m\u001b[38;5;124m\"\u001b[39m\u001b[38;5;132;01m{\u001b[39;00m\u001b[38;5;28mtype\u001b[39m(dfAverage)\u001b[38;5;132;01m}\u001b[39;00m\u001b[38;5;124m\"\u001b[39m\n\u001b[0;32m---> 12\u001b[0m test_getAverageTemperature()\n",
      "Input \u001b[0;32mIn [10]\u001b[0m, in \u001b[0;36mtest_getAverageTemperature\u001b[0;34m()\u001b[0m\n\u001b[1;32m      8\u001b[0m dfAverage \u001b[38;5;241m=\u001b[39m getAverageTemperature(df\u001b[38;5;241m=\u001b[39mdf)\n\u001b[1;32m      9\u001b[0m \u001b[38;5;66;03m# ASSERT\u001b[39;00m\n\u001b[0;32m---> 10\u001b[0m \u001b[38;5;28;01massert\u001b[39;00m \u001b[38;5;28misinstance\u001b[39m(dfAverage,pd\u001b[38;5;241m.\u001b[39mDataFrame),\u001b[38;5;124mf\u001b[39m\u001b[38;5;124m\"\u001b[39m\u001b[38;5;132;01m{\u001b[39;00m\u001b[38;5;28mtype\u001b[39m(dfAverage)\u001b[38;5;132;01m}\u001b[39;00m\u001b[38;5;124m\"\u001b[39m\n",
      "\u001b[0;31mAssertionError\u001b[0m: <class 'pandas.core.series.Series'>"
     ]
    }
   ],
   "source": [
    "def test_getAverageTemperature():\n",
    "    # ARRANGE\n",
    "    # load the data\n",
    "    df = loadData()\n",
    "    # select the first two columns\n",
    "    df = df.iloc[:,:2]\n",
    "    # ACT\n",
    "    dfAverage = getAverageTemperature(df=df)\n",
    "    # ASSERT\n",
    "    assert isinstance(dfAverage,pd.DataFrame),f\"{type(dfAverage)}\"\n",
    "\n",
    "test_getAverageTemperature()"
   ]
  },
  {
   "cell_type": "markdown",
   "id": "36ea3d7d-5f4d-4278-882e-aaee7ec5d2b2",
   "metadata": {},
   "source": [
    "## Responding to a test failure 2: Use the debugger\n"
   ]
  },
  {
   "cell_type": "code",
   "execution_count": 11,
   "id": "bacd2a87-d181-4aac-8169-15d90691d0e8",
   "metadata": {},
   "outputs": [
    {
     "ename": "AssertionError",
     "evalue": "<class 'pandas.core.series.Series'>",
     "output_type": "error",
     "traceback": [
      "\u001b[0;31m---------------------------------------------------------------------------\u001b[0m",
      "\u001b[0;31mAssertionError\u001b[0m                            Traceback (most recent call last)",
      "Input \u001b[0;32mIn [11]\u001b[0m, in \u001b[0;36m<cell line: 1>\u001b[0;34m()\u001b[0m\n\u001b[0;32m----> 1\u001b[0m test_getAverageTemperature()\n",
      "Input \u001b[0;32mIn [10]\u001b[0m, in \u001b[0;36mtest_getAverageTemperature\u001b[0;34m()\u001b[0m\n\u001b[1;32m      8\u001b[0m dfAverage \u001b[38;5;241m=\u001b[39m getAverageTemperature(df\u001b[38;5;241m=\u001b[39mdf)\n\u001b[1;32m      9\u001b[0m \u001b[38;5;66;03m# ASSERT\u001b[39;00m\n\u001b[0;32m---> 10\u001b[0m \u001b[38;5;28;01massert\u001b[39;00m \u001b[38;5;28misinstance\u001b[39m(dfAverage,pd\u001b[38;5;241m.\u001b[39mDataFrame),\u001b[38;5;124mf\u001b[39m\u001b[38;5;124m\"\u001b[39m\u001b[38;5;132;01m{\u001b[39;00m\u001b[38;5;28mtype\u001b[39m(dfAverage)\u001b[38;5;132;01m}\u001b[39;00m\u001b[38;5;124m\"\u001b[39m\n",
      "\u001b[0;31mAssertionError\u001b[0m: <class 'pandas.core.series.Series'>"
     ]
    }
   ],
   "source": [
    "test_getAverageTemperature()"
   ]
  },
  {
   "cell_type": "code",
   "execution_count": null,
   "id": "0e1a1807-cb85-4c03-86c4-bd7afe50fba0",
   "metadata": {},
   "outputs": [],
   "source": [
    "%debug"
   ]
  },
  {
   "cell_type": "markdown",
   "id": "5ed8dd1e-a546-4e62-b0c4-6ca798ae9cee",
   "metadata": {},
   "source": [
    "# Automated tests with pytest\n"
   ]
  },
  {
   "cell_type": "code",
   "execution_count": 12,
   "id": "09911aec-5ad2-4858-82ef-647f7c54a32b",
   "metadata": {},
   "outputs": [
    {
     "name": "stderr",
     "output_type": "stream",
     "text": [
      "UsageError: Cell magic `%%ipytest` not found.\n"
     ]
    }
   ],
   "source": [
    "%%ipytest -qq\n",
    "\n",
    "def test_getAverageTemperature():\n",
    "    # ARRANGE\n",
    "    # load the data\n",
    "    df = loadData()\n",
    "    # select the first two columns\n",
    "    df = df.iloc[:,:2]\n",
    "    # ACT\n",
    "    dfAverage = getAverageTemperature(df=df)\n",
    "    # ASSERT\n",
    "    assert isinstance(dfAverage,pd.DataFrame),f\"{type(dfAverage)}\""
   ]
  },
  {
   "cell_type": "markdown",
   "id": "fc3ce03c-602f-4306-ab19-aac400e1a689",
   "metadata": {},
   "source": [
    "## Use the debugger with pytest"
   ]
  },
  {
   "cell_type": "code",
   "execution_count": null,
   "id": "53f4af1b-037b-47d8-8766-f9fc30c77642",
   "metadata": {},
   "outputs": [],
   "source": [
    "%%ipytest -qq --pdb\n",
    "\n",
    "def test_getAverageTemperature():\n",
    "    # ARRANGE\n",
    "    # load the data\n",
    "    df = loadData()\n",
    "    # select the first two columns\n",
    "    df = df.iloc[:,:2]\n",
    "    # ACT\n",
    "    dfAverage = getAverageTemperature(df=df)\n",
    "    # ASSERT\n",
    "    assert isinstance(dfAverage,pd.DataFrame),f\"{type(dfAverage)}\""
   ]
  }
 ],
 "metadata": {
  "kernelspec": {
   "display_name": "demo-env",
   "language": "python",
   "name": "demo-env"
  },
  "language_info": {
   "codemirror_mode": {
    "name": "ipython",
    "version": 3
   },
   "file_extension": ".py",
   "mimetype": "text/x-python",
   "name": "python",
   "nbconvert_exporter": "python",
   "pygments_lexer": "ipython3",
   "version": "3.9.1"
  }
 },
 "nbformat": 4,
 "nbformat_minor": 5
}
