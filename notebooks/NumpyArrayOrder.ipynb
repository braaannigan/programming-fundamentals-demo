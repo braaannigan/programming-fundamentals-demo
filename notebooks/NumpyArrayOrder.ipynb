{
 "cells": [
  {
   "cell_type": "markdown",
   "id": "c9686e6e-e843-442c-a0ec-dbbddc68983c",
   "metadata": {},
   "source": [
    "# Array order\n",
    "\n",
    "In this workbook we look at the effect of changing the array order in memory on some simple computations."
   ]
  },
  {
   "cell_type": "markdown",
   "id": "de301153-9cc2-4802-88eb-6f099caf687d",
   "metadata": {},
   "source": [
    "We import the modules we need including some `ipython` imports to create more distinct print messages"
   ]
  },
  {
   "cell_type": "code",
   "execution_count": 14,
   "id": "978fce2d-4a65-4adc-bfd8-6a4c47a2e1f6",
   "metadata": {},
   "outputs": [],
   "source": [
    "import pandas as pd\n",
    "import numpy as np\n",
    "\n",
    "from IPython.display import Markdown, display"
   ]
  },
  {
   "cell_type": "code",
   "execution_count": 15,
   "id": "acc5a6fd-c9b2-46e3-97e7-2fab42f0c70c",
   "metadata": {},
   "outputs": [],
   "source": [
    "def printmd(string):\n",
    "    \"\"\"\n",
    "    This function allows us to use markdown highlighting in print statements\n",
    "    \"\"\"\n",
    "    display(Markdown(string))"
   ]
  },
  {
   "cell_type": "markdown",
   "id": "1aedc009-c9b6-4edd-ac56-88957019c18f",
   "metadata": {},
   "source": [
    "Create the random array for testing.  \n",
    "\n",
    "By default the array has C-ordering: that is the entries in the last column are adjacent in memory."
   ]
  },
  {
   "cell_type": "code",
   "execution_count": 16,
   "id": "421dcdc7-c802-4f16-9cf0-af49bf166568",
   "metadata": {},
   "outputs": [],
   "source": [
    "np.random.seed(3)\n",
    "N = 400\n",
    "arr = np.random.standard_normal((N,N,N))"
   ]
  },
  {
   "cell_type": "markdown",
   "id": "d3bef6db-0760-4fec-accd-f4d0ccd96cc1",
   "metadata": {},
   "source": [
    "## Test the execution in C-order\n",
    "\n",
    "Our test here is to simply take the mean over each axis.\n",
    "\n",
    "We first compare the execution in **C-order**. We expect averaging over the **last** column to be faster than the **first** column as the elements in the last column are adjacent in memory."
   ]
  },
  {
   "cell_type": "code",
   "execution_count": 17,
   "id": "97867c80-23cc-4dff-aa96-7390316fd046",
   "metadata": {},
   "outputs": [
    {
     "data": {
      "text/markdown": [
       "Run in **C-order** - expect mean over **last column** to be fastest"
      ],
      "text/plain": [
       "<IPython.core.display.Markdown object>"
      ]
     },
     "metadata": {},
     "output_type": "display_data"
    },
    {
     "name": "stdout",
     "output_type": "stream",
     "text": [
      "112 ms ± 38.3 ms per loop (mean ± std. dev. of 7 runs, 1 loop each)\n",
      "67.9 ms ± 8.94 ms per loop (mean ± std. dev. of 7 runs, 1 loop each)\n",
      "62 ms ± 11.8 ms per loop (mean ± std. dev. of 7 runs, 1 loop each)\n"
     ]
    }
   ],
   "source": [
    "printmd(\"Run in **C-order** - expect mean over **last column** to be fastest\")\n",
    "%timeit -n 1 arr.mean(axis=0)\n",
    "%timeit -n 1 arr.mean(axis=1)\n",
    "%timeit -n 1 arr.mean(axis=2)"
   ]
  },
  {
   "cell_type": "markdown",
   "id": "30b1468b-27b1-41c6-b2d7-cff39d23fa22",
   "metadata": {},
   "source": [
    "We now compare the execution in **Fortran**-order. The first step will be to convert the array in memory to fortran order with `np.asfortranarray`.\n",
    "\n",
    "We expect averaging over the **first** column to be faster than the **last** column as the elements in the first column are adjacent in memory."
   ]
  },
  {
   "cell_type": "code",
   "execution_count": 18,
   "id": "44abc21c-b99d-429d-b2e9-cf53584bfed8",
   "metadata": {},
   "outputs": [
    {
     "data": {
      "text/markdown": [
       "Run in **Fortran-order** - expect mean over **first column** to be fastest"
      ],
      "text/plain": [
       "<IPython.core.display.Markdown object>"
      ]
     },
     "metadata": {},
     "output_type": "display_data"
    },
    {
     "name": "stdout",
     "output_type": "stream",
     "text": [
      "66.6 ms ± 17.5 ms per loop (mean ± std. dev. of 7 runs, 1 loop each)\n",
      "77 ms ± 6.95 ms per loop (mean ± std. dev. of 7 runs, 1 loop each)\n",
      "82.2 ms ± 6.4 ms per loop (mean ± std. dev. of 7 runs, 1 loop each)\n"
     ]
    }
   ],
   "source": [
    "printmd(\"Run in **Fortran-order** - expect mean over **first column** to be fastest\")\n",
    "arr = np.asfortranarray(arr)\n",
    "%timeit -n 1 arr.mean(axis=0)\n",
    "%timeit -n 1 arr.mean(axis=1)\n",
    "%timeit -n 1 arr.mean(axis=2)"
   ]
  },
  {
   "cell_type": "code",
   "execution_count": null,
   "id": "7287dc67-0b96-4641-a303-675a4a365272",
   "metadata": {},
   "outputs": [],
   "source": []
  }
 ],
 "metadata": {
  "kernelspec": {
   "display_name": "demo-env",
   "language": "python",
   "name": "demo-env"
  },
  "language_info": {
   "codemirror_mode": {
    "name": "ipython",
    "version": 3
   },
   "file_extension": ".py",
   "mimetype": "text/x-python",
   "name": "python",
   "nbconvert_exporter": "python",
   "pygments_lexer": "ipython3",
   "version": "3.9.1"
  }
 },
 "nbformat": 4,
 "nbformat_minor": 5
}
